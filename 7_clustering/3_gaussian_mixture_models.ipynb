{
 "cells": [
  {
   "cell_type": "markdown",
   "metadata": {
    "slideshow": {
     "slide_type": "skip"
    },
    "toc": true
   },
   "source": [
    "<h1>Table of Contents<span class=\"tocSkip\"></span></h1>\n",
    "<div class=\"toc\"><ul class=\"toc-item\"><li><span><a href=\"#Gaussian-Mixture-Models-(GMM)\" data-toc-modified-id=\"Gaussian-Mixture-Models-(GMM)-1\">Gaussian Mixture Models (GMM)</a></span></li><li><span><a href=\"#Learning-Outcomes\" data-toc-modified-id=\"Learning-Outcomes-2\">Learning Outcomes</a></span></li><li><span><a href=\"#Gaussian-Distribution:-A-Pretty-Picture\" data-toc-modified-id=\"Gaussian-Distribution:-A-Pretty-Picture-3\">Gaussian Distribution: A Pretty Picture</a></span></li><li><span><a href=\"#Gaussian-Distribution:-Features-&amp;-Benefits\" data-toc-modified-id=\"Gaussian-Distribution:-Features-&amp;-Benefits-4\">Gaussian Distribution: Features &amp; Benefits</a></span></li><li><span><a href=\"#Gaussian-Distribution:-In-Code\" data-toc-modified-id=\"Gaussian-Distribution:-In-Code-5\">Gaussian Distribution: In Code</a></span></li><li><span><a href=\"#What-are-example-of-data-you-can-model-with-a-Gaussian-distribution?\" data-toc-modified-id=\"What-are-example-of-data-you-can-model-with-a-Gaussian-distribution?-6\">What are example of data you can model with a Gaussian distribution?</a></span></li><li><span><a href=\"#Not-Everything-is-Gaussian-Distributed\" data-toc-modified-id=\"Not-Everything-is-Gaussian-Distributed-7\">Not Everything is Gaussian Distributed</a></span></li><li><span><a href=\"#Sometimes-data-can-be-modeled-with-2-Gaussians\" data-toc-modified-id=\"Sometimes-data-can-be-modeled-with-2-Gaussians-8\">Sometimes data can be modeled with 2 Gaussians</a></span></li><li><span><a href=\"#Bimodal-Dataset-Example\" data-toc-modified-id=\"Bimodal-Dataset-Example-9\">Bimodal Dataset Example</a></span></li><li><span><a href=\"#What-model-should-we-fit?\" data-toc-modified-id=\"What-model-should-we-fit?-10\">What model should we fit?</a></span></li><li><span><a href=\"#Defining-a-Gaussian-Mixture-Model-(GMM)\" data-toc-modified-id=\"Defining-a-Gaussian-Mixture-Model-(GMM)-11\">Defining a Gaussian Mixture Model (GMM)</a></span></li><li><span><a href=\"#Defining-Gaussian-Mixture-Model-(GMM)\" data-toc-modified-id=\"Defining-Gaussian-Mixture-Model-(GMM)-12\">Defining Gaussian Mixture Model (GMM)</a></span></li><li><span><a href=\"#GMM-in-scikit-learn\" data-toc-modified-id=\"GMM-in-scikit-learn-13\">GMM in scikit-learn</a></span></li><li><span><a href=\"#Extending-GMM\" data-toc-modified-id=\"Extending-GMM-14\">Extending GMM</a></span></li><li><span><a href=\"#Extending-GMM:-More-than-1-dimension\" data-toc-modified-id=\"Extending-GMM:-More-than-1-dimension-15\">Extending GMM: More than 1 dimension</a></span></li><li><span><a href=\"#Extending-GMM:-More-than-2-Gaussians\" data-toc-modified-id=\"Extending-GMM:-More-than-2-Gaussians-16\">Extending GMM: More than 2 Gaussians</a></span></li><li><span><a href=\"#GMM-is-Density-Estimation-\" data-toc-modified-id=\"GMM-is-Density-Estimation--17\">GMM is Density Estimation </a></span></li><li><span><a href=\"#Density-Based-Clustering\" data-toc-modified-id=\"Density-Based-Clustering-18\">Density-Based Clustering</a></span></li><li><span><a href=\"#K-means-vs-GMM\" data-toc-modified-id=\"K-means-vs-GMM-19\">K-means vs GMM</a></span></li><li><span><a href=\"#Takeaways\" data-toc-modified-id=\"Takeaways-20\">Takeaways</a></span></li><li><span><a href=\"#Bonus-Material\" data-toc-modified-id=\"Bonus-Material-21\">Bonus Material</a></span></li><li><span><a href=\"#Let's-estimate-Gaussian-Mixture-Model-(GMM)'s-θ--with-Expectation–Maximization-(EM)-Algorithm!\" data-toc-modified-id=\"Let's-estimate-Gaussian-Mixture-Model-(GMM)'s-θ--with-Expectation–Maximization-(EM)-Algorithm!-22\">Let's estimate Gaussian Mixture Model (GMM)'s θ <br> with Expectation–Maximization (EM) Algorithm!</a></span></li><li><span><a href=\"#The-problem-with-fitting-clustering-models:-🐥-&amp;-🥚\" data-toc-modified-id=\"The-problem-with-fitting-clustering-models:-🐥-&amp;-🥚-23\">The problem with fitting clustering models: <br>🐥 &amp; 🥚</a></span></li><li><span><a href=\"#Expectation–Maximization-(EM)-Steps\" data-toc-modified-id=\"Expectation–Maximization-(EM)-Steps-24\">Expectation–Maximization (EM) Steps</a></span></li><li><span><a href=\"#Expectation–Maximization-(EM)-for-k-means\" data-toc-modified-id=\"Expectation–Maximization-(EM)-for-k-means-25\">Expectation–Maximization (EM) for k-means</a></span></li><li><span><a href=\"#Expectation-Step\" data-toc-modified-id=\"Expectation-Step-26\">Expectation Step</a></span></li><li><span><a href=\"#Maximization-Step\" data-toc-modified-id=\"Maximization-Step-27\">Maximization Step</a></span></li><li><span><a href=\"#Alternative-Expectation-Step-&amp;-Maximization-Step\" data-toc-modified-id=\"Alternative-Expectation-Step-&amp;-Maximization-Step-28\">Alternative Expectation Step &amp; Maximization Step</a></span></li><li><span><a href=\"#Expectation–Maximization-(EM)-Algorithm--\" data-toc-modified-id=\"Expectation–Maximization-(EM)-Algorithm---29\">Expectation–Maximization (EM) Algorithm  </a></span></li><li><span><a href=\"#EM,-more-formally\" data-toc-modified-id=\"EM,-more-formally-30\">EM, more formally</a></span></li><li><span><a href=\"#Expectation–Maximization-(EM)-algorithm\" data-toc-modified-id=\"Expectation–Maximization-(EM)-algorithm-31\">Expectation–Maximization (EM) algorithm</a></span></li><li><span><a href=\"#Check-for-understanding\" data-toc-modified-id=\"Check-for-understanding-32\">Check for understanding</a></span></li><li><span><a href=\"#EM-is-trying-to-maximize-the-following-function:\" data-toc-modified-id=\"EM-is-trying-to-maximize-the-following-function:-33\">EM is trying to maximize the following function:</a></span></li><li><span><a href=\"#EM-Steps\" data-toc-modified-id=\"EM-Steps-34\">EM Steps</a></span></li><li><span><a href=\"#EM-steps,-stated-another-way\" data-toc-modified-id=\"EM-steps,-stated-another-way-35\">EM steps, stated another way</a></span></li><li><span><a href=\"#Check-for-understanding\" data-toc-modified-id=\"Check-for-understanding-36\">Check for understanding</a></span></li><li><span><a href=\"#Gaussian-Mixture-Model-(GMM)--A-kinder,-softer-k-means\" data-toc-modified-id=\"Gaussian-Mixture-Model-(GMM)--A-kinder,-softer-k-means-37\">Gaussian Mixture Model (GMM) <br> A kinder, softer k-means</a></span></li><li><span><a href=\"#Let's-code-it-up\" data-toc-modified-id=\"Let's-code-it-up-38\">Let's code it up</a></span></li><li><span><a href=\"#Takeaways\" data-toc-modified-id=\"Takeaways-39\">Takeaways</a></span></li><li><span><a href=\"#Further-Study\" data-toc-modified-id=\"Further-Study-40\">Further Study</a></span></li></ul></div>"
   ]
  },
  {
   "cell_type": "markdown",
   "metadata": {
    "slideshow": {
     "slide_type": "slide"
    }
   },
   "source": [
    "<center><h2>Gaussian Mixture Models (GMM)</h2></center>\n",
    "\n",
    "<br>\n",
    "<center><img src=\"../images/paranormal.jpg\" width=\"50%\"/></center>"
   ]
  },
  {
   "cell_type": "markdown",
   "metadata": {
    "slideshow": {
     "slide_type": "slide"
    }
   },
   "source": [
    "<center><h2>Learning Outcomes</h2></center>\n",
    "\n",
    "__By the end of this session, you should be able to__:\n",
    "\n",
    "- Explain how to model data with a Gaussian distribution \n",
    "- Explain how to extend it with Gaussian Mixture Models (GMM)."
   ]
  },
  {
   "cell_type": "markdown",
   "metadata": {
    "slideshow": {
     "slide_type": "slide"
    }
   },
   "source": [
    "<center><h2>Gaussian Distribution: A Pretty Picture</h2></center>\n",
    "\n",
    "<center><img src=\"../images/normal.png\" width=\"35%\"/></center>"
   ]
  },
  {
   "cell_type": "markdown",
   "metadata": {
    "slideshow": {
     "slide_type": "slide"
    }
   },
   "source": [
    "<center><h2>Gaussian Distribution: Features & Benefits</h2></center>\n",
    "\n",
    "- Parameterized with a mean & variance/standard deviation, ~$N(\\mu, \\sigma^2)$.\n",
    "- Function is well-known.\n",
    "- Most of mass is in the middle.\n",
    "- Symmetrical.\n",
    "- Goes from -∞ to ∞."
   ]
  },
  {
   "cell_type": "markdown",
   "metadata": {
    "slideshow": {
     "slide_type": "slide"
    }
   },
   "source": [
    "<center><h2>Gaussian Distribution: In Code</h2></center>"
   ]
  },
  {
   "cell_type": "code",
   "execution_count": 23,
   "metadata": {
    "slideshow": {
     "slide_type": "skip"
    }
   },
   "outputs": [],
   "source": [
    "reset -fs"
   ]
  },
  {
   "cell_type": "code",
   "execution_count": 24,
   "metadata": {},
   "outputs": [],
   "source": [
    "from warnings import filterwarnings\n",
    "filterwarnings('ignore')"
   ]
  },
  {
   "cell_type": "code",
   "execution_count": 25,
   "metadata": {
    "slideshow": {
     "slide_type": "skip"
    }
   },
   "outputs": [],
   "source": [
    "import matplotlib.pyplot as plt\n",
    "import numpy as np\n",
    "from scipy import stats\n",
    "import seaborn as sns\n",
    "\n",
    "sns.set_style(\"white\")\n",
    "%matplotlib inline"
   ]
  },
  {
   "cell_type": "code",
   "execution_count": 26,
   "metadata": {
    "slideshow": {
     "slide_type": "fragment"
    }
   },
   "outputs": [
    {
     "data": {
      "image/png": "[encoded data removed]",
      "text/plain": [
       "<Figure size 432x288 with 1 Axes>"
      ]
     },
     "metadata": {
      "needs_background": "light"
     },
     "output_type": "display_data"
    }
   ],
   "source": [
    "x = np.linspace(start=-10, stop=10, num=1000)\n",
    "y = stats.norm.pdf(x, loc=0, scale=1.5) \n",
    "plt.plot(x, y);"
   ]
  },
  {
   "cell_type": "markdown",
   "metadata": {
    "slideshow": {
     "slide_type": "slide"
    }
   },
   "source": [
    "<center><h2>What are example of data you can model with a Gaussian distribution?</h2></center>"
   ]
  },
  {
   "cell_type": "markdown",
   "metadata": {
    "slideshow": {
     "slide_type": "fragment"
    }
   },
   "source": [
    "- Physical quantities (height, weight, length, …) \n",
    "- Test scores\n",
    "- Salary\n"
   ]
  },
  {
   "cell_type": "markdown",
   "metadata": {
    "slideshow": {
     "slide_type": "fragment"
    }
   },
   "source": [
    "- Anything that is a sum of many independent processes, aka the heart of the Central Limit Theorem (CLT)."
   ]
  },
  {
   "cell_type": "markdown",
   "metadata": {
    "slideshow": {
     "slide_type": "slide"
    }
   },
   "source": [
    "<center><h2>Not Everything is Gaussian Distributed</h2></center>\n",
    "\n",
    "<center><img src=\"../images/abnormal.png\" width=\"100%\"/></center>"
   ]
  },
  {
   "cell_type": "markdown",
   "metadata": {
    "collapsed": true,
    "slideshow": {
     "slide_type": "slide"
    }
   },
   "source": [
    "<center><h2>Sometimes data can be modeled with 2 Gaussians</h2></center>\n",
    "\n",
    "<center><img src=\"../images/2_gaus.png\" width=\"75%\"/></center>"
   ]
  },
  {
   "cell_type": "markdown",
   "metadata": {
    "slideshow": {
     "slide_type": "slide"
    }
   },
   "source": [
    "<center><h2>Bimodal Dataset Example</h2></center>"
   ]
  },
  {
   "cell_type": "code",
   "execution_count": 27,
   "metadata": {
    "slideshow": {
     "slide_type": "skip"
    }
   },
   "outputs": [],
   "source": [
    "import pandas as pd"
   ]
  },
  {
   "cell_type": "code",
   "execution_count": 28,
   "metadata": {
    "slideshow": {
     "slide_type": "fragment"
    }
   },
   "outputs": [],
   "source": [
    "df = pd.read_csv(\"../data/bimodal_example.csv\")"
   ]
  },
  {
   "cell_type": "code",
   "execution_count": 29,
   "metadata": {
    "slideshow": {
     "slide_type": "skip"
    }
   },
   "outputs": [],
   "source": [
    "data = df.x"
   ]
  },
  {
   "cell_type": "code",
   "execution_count": 30,
   "metadata": {
    "slideshow": {
     "slide_type": "fragment"
    }
   },
   "outputs": [
    {
     "data": {
      "image/png": "[encoded data removed]",
      "text/plain": [
       "<Figure size 432x288 with 1 Axes>"
      ]
     },
     "metadata": {
      "needs_background": "light"
     },
     "output_type": "display_data"
    }
   ],
   "source": [
    "sns.distplot(data,\n",
    "             bins=20,\n",
    "             kde=False);"
   ]
  },
  {
   "cell_type": "markdown",
   "metadata": {
    "slideshow": {
     "slide_type": "fragment"
    }
   },
   "source": [
    "Is the Gaussian distribution a useful model for the data?"
   ]
  },
  {
   "cell_type": "code",
   "execution_count": 31,
   "metadata": {
    "slideshow": {
     "slide_type": "slide"
    }
   },
   "outputs": [
    {
     "data": {
      "image/png": "[encoded data removed]",
      "text/plain": [
       "<Figure size 432x288 with 1 Axes>"
      ]
     },
     "metadata": {
      "needs_background": "light"
     },
     "output_type": "display_data"
    }
   ],
   "source": [
    "# Model with a Gaussian distribution\n",
    "sns.distplot(data,\n",
    "             fit=stats.norm,\n",
    "             bins=20,\n",
    "             kde=False,);"
   ]
  },
  {
   "cell_type": "markdown",
   "metadata": {
    "slideshow": {
     "slide_type": "fragment"
    }
   },
   "source": [
    "A Gaussian is not a useful.  \n",
    "A Gaussian either over-predicts or under-predicts by a lot for most of the domain."
   ]
  },
  {
   "cell_type": "markdown",
   "metadata": {
    "slideshow": {
     "slide_type": "fragment"
    }
   },
   "source": [
    "<center><h2>What model should we fit?</h2></center>\n"
   ]
  },
  {
   "cell_type": "code",
   "execution_count": 32,
   "metadata": {
    "slideshow": {
     "slide_type": "slide"
    }
   },
   "outputs": [
    {
     "data": {
      "image/png": "[encoded data removed]",
      "text/plain": [
       "<Figure size 432x288 with 1 Axes>"
      ]
     },
     "metadata": {
      "needs_background": "light"
     },
     "output_type": "display_data"
    }
   ],
   "source": [
    "sns.distplot(data,\n",
    "             bins=20,\n",
    "             kde=False);"
   ]
  },
  {
   "cell_type": "markdown",
   "metadata": {
    "slideshow": {
     "slide_type": "fragment"
    }
   },
   "source": [
    "<center>The dataset appears to be a mixture of two Gaussian distributions.</center>"
   ]
  },
  {
   "cell_type": "markdown",
   "metadata": {
    "slideshow": {
     "slide_type": "slide"
    }
   },
   "source": [
    "<center><h2>Defining a Gaussian Mixture Model (GMM)</h2></center>\n",
    "<br>\n",
    "<center><img src=\"../images/mix.png\" width=\"35%\"/></center>\n",
    "\n",
    "4 parameters for 2 Gaussian distributions $N(\\mu_1, \\sigma_1^2)$ and $N(\\mu_2, \\sigma_2^2)$. "
   ]
  },
  {
   "cell_type": "markdown",
   "metadata": {
    "slideshow": {
     "slide_type": "fragment"
    }
   },
   "source": [
    "1 parameter for \"mixing\", aka the probability of choosing from one of them. Allows for distributions to be be different heights."
   ]
  },
  {
   "cell_type": "markdown",
   "metadata": {
    "slideshow": {
     "slide_type": "slide"
    }
   },
   "source": [
    "<center><h2>Defining Gaussian Mixture Model (GMM)</h2></center>\n",
    "\n",
    "The probability density function (PDF) is:\n",
    "\n",
    "$$f(x | \\theta) = w \\  f_1(x \\ | \\  \\mu_1, \\sigma_1^2) + (1 - w) \\  f_2 (x  \\ | \\  \\mu_2, \\sigma_2^2) $$  \n",
    "\n",
    "Let $w$ be the probability that the data comes from the first Gaussian distribution."
   ]
  },
  {
   "cell_type": "markdown",
   "metadata": {
    "slideshow": {
     "slide_type": "fragment"
    }
   },
   "source": [
    "The parameter vector is $ \\vec{\\theta} = [w, \\mu_1, \\sigma_1^2, \\mu_2, \\sigma_2^2]$."
   ]
  },
  {
   "cell_type": "markdown",
   "metadata": {},
   "source": [
    "<center><h2>GMM in scikit-learn</h2></center>\n",
    "\n",
    "Let's read the documentation\n",
    "\n",
    "https://scikit-learn.org/stable/modules/generated/sklearn.mixture.GaussianMixture.html"
   ]
  },
  {
   "cell_type": "code",
   "execution_count": 4,
   "metadata": {},
   "outputs": [],
   "source": [
    "from sklearn.mixture import GaussianMixture"
   ]
  },
  {
   "cell_type": "code",
   "execution_count": 1,
   "metadata": {},
   "outputs": [],
   "source": [
    "# Toy data\n",
    "import numpy as np\n",
    "\n",
    "X = np.array([[1, 2], \n",
    "              [1, 4], \n",
    "              [1, 0], \n",
    "              [10, 2], \n",
    "              [10, 4], \n",
    "              [10, 0]])"
   ]
  },
  {
   "cell_type": "code",
   "execution_count": 6,
   "metadata": {},
   "outputs": [],
   "source": [
    "from IPython import display\n",
    "import matplotlib.pyplot as plt\n",
    "from matplotlib.patches import Ellipse\n",
    "\n",
    "%matplotlib inline"
   ]
  },
  {
   "cell_type": "code",
   "execution_count": 8,
   "metadata": {},
   "outputs": [
    {
     "data": {
      "image/png": "[encoded data removed]",
      "text/plain": [
       "<Figure size 432x288 with 1 Axes>"
      ]
     },
     "metadata": {
      "needs_background": "light"
     },
     "output_type": "display_data"
    }
   ],
   "source": [
    "plt.scatter(X[:, 0], X[:, 1]);"
   ]
  },
  {
   "cell_type": "code",
   "execution_count": 9,
   "metadata": {},
   "outputs": [
    {
     "data": {
      "text/plain": [
       "GaussianMixture(n_components=2)"
      ]
     },
     "execution_count": 9,
     "metadata": {},
     "output_type": "execute_result"
    }
   ],
   "source": [
    "gm = GaussianMixture(n_components=2)\n",
    "gm.fit(X)"
   ]
  },
  {
   "cell_type": "code",
   "execution_count": 10,
   "metadata": {},
   "outputs": [
    {
     "data": {
      "text/plain": [
       "array([[10.,  2.],\n",
       "       [ 1.,  2.]])"
      ]
     },
     "execution_count": 10,
     "metadata": {},
     "output_type": "execute_result"
    }
   ],
   "source": [
    "gm.means_"
   ]
  },
  {
   "cell_type": "code",
   "execution_count": 16,
   "metadata": {},
   "outputs": [
    {
     "data": {
      "image/png": "[encoded data removed]",
      "text/plain": [
       "<Figure size 432x288 with 1 Axes>"
      ]
     },
     "metadata": {
      "needs_background": "light"
     },
     "output_type": "display_data"
    }
   ],
   "source": [
    "labels = gm.predict(X)\n",
    "plt.scatter(X[:, 0], X[:, 1], c=labels);"
   ]
  },
  {
   "cell_type": "code",
   "execution_count": 17,
   "metadata": {},
   "outputs": [
    {
     "data": {
      "text/plain": [
       "array([0])"
      ]
     },
     "execution_count": 17,
     "metadata": {},
     "output_type": "execute_result"
    }
   ],
   "source": [
    "gm.predict([[12, 3]])"
   ]
  },
  {
   "cell_type": "code",
   "execution_count": 18,
   "metadata": {},
   "outputs": [
    {
     "data": {
      "text/plain": [
       "array([1])"
      ]
     },
     "execution_count": 18,
     "metadata": {},
     "output_type": "execute_result"
    }
   ],
   "source": [
    "gm.predict([[0, 0]])"
   ]
  },
  {
   "cell_type": "markdown",
   "metadata": {
    "slideshow": {
     "slide_type": "slide"
    }
   },
   "source": [
    "<center><h2>Extending GMM</h2></center>\n",
    "\n",
    "- More than 1 dimension\n",
    "- More than 2 Gaussians"
   ]
  },
  {
   "cell_type": "markdown",
   "metadata": {
    "collapsed": true,
    "slideshow": {
     "slide_type": "slide"
    }
   },
   "source": [
    "<center><h2>Extending GMM: More than 1 dimension</h2></center>\n",
    "\n",
    "<center><img src=\"../images/em_2d_gmm.png\" width=\"55%\"/></center>"
   ]
  },
  {
   "cell_type": "markdown",
   "metadata": {
    "slideshow": {
     "slide_type": "skip"
    }
   },
   "source": [
    "Define a multivariate Gaussian:\n",
    "\n",
    "1. A μ vector.\n",
    "1. A Σ covariance matrix."
   ]
  },
  {
   "cell_type": "markdown",
   "metadata": {
    "slideshow": {
     "slide_type": "slide"
    }
   },
   "source": [
    "<center><h2>Extending GMM: More than 2 Gaussians</h2></center>\n",
    "\n",
    "<center><img src=\"../images/triples.jpg\" width=\"100%\"/></center>"
   ]
  },
  {
   "cell_type": "markdown",
   "metadata": {
    "slideshow": {
     "slide_type": "slide"
    }
   },
   "source": [
    "<center><h2>GMM is Density Estimation </h2></center>\n",
    "\n",
    "Estimate an unknown probability density function by finding the dense regions of points."
   ]
  },
  {
   "cell_type": "markdown",
   "metadata": {
    "slideshow": {
     "slide_type": "fragment"
    }
   },
   "source": [
    "<center><h2>Density-Based Clustering</h2></center>\n",
    "\n",
    "Continuous estimates of probability can be thresholded to form discrete group."
   ]
  },
  {
   "cell_type": "markdown",
   "metadata": {
    "slideshow": {
     "slide_type": "fragment"
    }
   },
   "source": [
    "The same thing happens in Logistic Regression"
   ]
  },
  {
   "cell_type": "markdown",
   "metadata": {},
   "source": [
    "<center><h2>K-means vs GMM</h2></center>\n",
    "\n",
    "<center><img src=\"../images/1280px-ClusterAnalysis_Mouse.svg.png\" width=\"75%\"/></center>\n",
    "\n",
    "Cluster analysis performed on an artificial dataset (\"Mouse\", similar to a well-known comic figure) comparing k means and EM clustering results.\n",
    "\n",
    "The tendency of k-Means to produce clusters of the same extends produces bad results, while the Gaussian nature of the data is well recognized by EM.\n",
    "\n",
    "[Source](https://commons.wikimedia.org/wiki/File:ClusterAnalysis_Mouse.svg)"
   ]
  },
  {
   "cell_type": "markdown",
   "metadata": {},
   "source": [
    "<center><h2>Takeaways</h2></center>\n",
    "\n",
    "- Gaussian distributions are simple and powerful models.\n",
    "- They can be extended with Gaussian Mixture Model (GMM).\n",
    "- GMM parameters are mean, covariance, and mixture amount."
   ]
  },
  {
   "cell_type": "markdown",
   "metadata": {
    "slideshow": {
     "slide_type": "slide"
    }
   },
   "source": [
    "<br>\n",
    "<br> \n",
    "<br>\n",
    "\n",
    "----"
   ]
  },
  {
   "cell_type": "markdown",
   "metadata": {},
   "source": [
    "Bonus Material\n",
    "----"
   ]
  },
  {
   "cell_type": "markdown",
   "metadata": {
    "slideshow": {
     "slide_type": "slide"
    }
   },
   "source": [
    "<center><h2>Let's estimate Gaussian Mixture Model (GMM)'s θ <br> with Expectation–Maximization (EM) Algorithm!</h2></center>\n",
    "\n"
   ]
  },
  {
   "cell_type": "markdown",
   "metadata": {
    "slideshow": {
     "slide_type": "slide"
    }
   },
   "source": [
    "<center><h2>The problem with fitting clustering models: <br>🐥 & 🥚</h2></center>\n",
    "\n",
    "<center><img src=\"../images/green.png\" width=\"25%\"/></center>\n",
    "\n",
    "Clustering has a circular problem:\n",
    "\n",
    "- If only we knew the cluster centroids, we could assign the data points to the clusters.   \n",
    "- If only we knew which clusters the data points belong to, we could compute their centroids.  \n",
    "How do we assign points-to-clusters and clusters-to-points?"
   ]
  },
  {
   "cell_type": "markdown",
   "metadata": {
    "slideshow": {
     "slide_type": "slide"
    }
   },
   "source": [
    "<center><h2>Expectation–Maximization (EM) Steps</h2></center>\n",
    "\n",
    "1) Start by randomly placing cluster centroids (cluster center)."
   ]
  },
  {
   "cell_type": "markdown",
   "metadata": {
    "slideshow": {
     "slide_type": "fragment"
    }
   },
   "source": [
    "2) Assign each data point to a specific cluster based on minimum distance."
   ]
  },
  {
   "cell_type": "markdown",
   "metadata": {
    "slideshow": {
     "slide_type": "fragment"
    }
   },
   "source": [
    "3) Compute the new centroids for the clusters. Move the centroids to that position."
   ]
  },
  {
   "cell_type": "markdown",
   "metadata": {
    "slideshow": {
     "slide_type": "fragment"
    }
   },
   "source": [
    "4) Repeat step 2-3 until things stop significantly improving (or we get bored)."
   ]
  },
  {
   "cell_type": "markdown",
   "metadata": {
    "slideshow": {
     "slide_type": "slide"
    }
   },
   "source": [
    "<center><h2>Expectation–Maximization (EM) for k-means</h2></center>\n",
    "\n",
    "__k-means__, aka the kind of clustering you should always do first."
   ]
  },
  {
   "cell_type": "markdown",
   "metadata": {
    "slideshow": {
     "slide_type": "slide"
    }
   },
   "source": [
    "<center><h2>Expectation Step</h2></center>\n",
    "\n",
    "<center><img src=\"../images/e_1.png\" width=\"55%\"/></center>\n",
    "\n",
    "<center>Fix cluster centroids, assign data to nearest centroid.</center>"
   ]
  },
  {
   "cell_type": "markdown",
   "metadata": {
    "slideshow": {
     "slide_type": "slide"
    }
   },
   "source": [
    "<center><h2>Maximization Step</h2></center>\n",
    "\n",
    "<center><img src=\"../images/m_1.png\" width=\"55%\"/></center>\n",
    "\n",
    "<center>Fix data membership, move cluster centroid.</center>"
   ]
  },
  {
   "cell_type": "markdown",
   "metadata": {
    "slideshow": {
     "slide_type": "fragment"
    }
   },
   "source": [
    "What do we do next?"
   ]
  },
  {
   "cell_type": "markdown",
   "metadata": {
    "slideshow": {
     "slide_type": "slide"
    }
   },
   "source": [
    "<center><h2>Alternative Expectation Step & Maximization Step</h2></center>\n",
    "<center><img src=\"../images/kmeans.png\" width=\"75%\"/></center>"
   ]
  },
  {
   "cell_type": "markdown",
   "metadata": {
    "slideshow": {
     "slide_type": "skip"
    }
   },
   "source": [
    "Source p435 of Pattern Recognition and Machine Learning by Bishop"
   ]
  },
  {
   "cell_type": "markdown",
   "metadata": {
    "slideshow": {
     "slide_type": "slide"
    }
   },
   "source": [
    "<center><h2>Expectation–Maximization (EM) Algorithm  </h2></center>\n",
    "\n",
    "<br>\n",
    "<center><img src=\"../images/400px-EM.jpg\" width=\"50%\"/></center>"
   ]
  },
  {
   "cell_type": "markdown",
   "metadata": {
    "slideshow": {
     "slide_type": "fragment"
    }
   },
   "source": [
    "__Expectation (E)__ step: Given the current parameters of the model, estimate a probability distribution.\n",
    "\n",
    "__Maximization (M)__ step: Given the current data, estimate the parameters to update the model."
   ]
  },
  {
   "cell_type": "markdown",
   "metadata": {
    "slideshow": {
     "slide_type": "slide"
    }
   },
   "source": [
    "<center><h2>EM, more formally</h2></center>\n",
    "\n",
    "$$  \\ell (\\theta) = \\sum_{i=0}^N logp(x_i | \\theta)$$\n",
    "\n",
    "Alternates between performing:\n",
    "\n",
    "- __Expectation (E)__ step: Using the current parameters estimates, calculate the likelihood (typically log-likelihood) for the data.  \n",
    "\n",
    "- __Maximization (M)__ step: Update parameters to maximize the expected likelihood found on the E step. "
   ]
  },
  {
   "cell_type": "markdown",
   "metadata": {},
   "source": []
  },
  {
   "cell_type": "markdown",
   "metadata": {
    "slideshow": {
     "slide_type": "skip"
    }
   },
   "source": [
    "The M parameter-estimates are then used to determine the distribution of the latent variables in the next E step."
   ]
  },
  {
   "cell_type": "markdown",
   "metadata": {
    "slideshow": {
     "slide_type": "skip"
    }
   },
   "source": [
    "[Wikipedia](https://en.wikipedia.org/wiki/Expectation%E2%80%93maximization_algorithm)"
   ]
  },
  {
   "cell_type": "markdown",
   "metadata": {
    "slideshow": {
     "slide_type": "slide"
    }
   },
   "source": [
    "<center><h2>Expectation–Maximization (EM) algorithm</h2></center>\n",
    "\n",
    "An iterative method for finding parameter estimates of models, when the model depends on unobserved latent variables."
   ]
  },
  {
   "cell_type": "markdown",
   "metadata": {
    "slideshow": {
     "slide_type": "skip"
    }
   },
   "source": [
    "Parameter estimates could be maximum likelihood (MLE) or maximum a posteriori (MAP)"
   ]
  },
  {
   "cell_type": "markdown",
   "metadata": {
    "slideshow": {
     "slide_type": "slide"
    }
   },
   "source": [
    "<center><h2>Check for understanding</h2></center>\n",
    "\n",
    "When do we stop iterating, aka alternating between Expectation and Maximization?"
   ]
  },
  {
   "cell_type": "markdown",
   "metadata": {
    "slideshow": {
     "slide_type": "fragment"
    }
   },
   "source": [
    "- Convergence (no _significant_ improvement).   \n",
    "- Run out of computational budget (time or number of steps).  "
   ]
  },
  {
   "cell_type": "markdown",
   "metadata": {
    "slideshow": {
     "slide_type": "slide"
    }
   },
   "source": [
    "EM is trying to maximize the following function:\n",
    "------\n",
    "    \n",
    "<center><img src=\"../images/em_form.png\" width=\"100%\"/></center>\n",
    "\n",
    "X - observations  \n",
    "θ - model parameters  \n",
    "Z - latent variable (not directly observed)  "
   ]
  },
  {
   "cell_type": "markdown",
   "metadata": {
    "slideshow": {
     "slide_type": "slide"
    }
   },
   "source": [
    "<center><h2>EM Steps</h2></center>\n",
    "<br>\n",
    "<br>\n",
    "\n",
    "1. Initialize the parameters θ.\n",
    "2. Compute the best values for Z given θ.  \n",
    "3. Use the computed values of Z to compute a better estimate for the θ. \n",
    "4. Iterate steps 2 and 3 until done."
   ]
  },
  {
   "cell_type": "markdown",
   "metadata": {
    "slideshow": {
     "slide_type": "slide"
    }
   },
   "source": [
    "<center><h2>EM steps, stated another way</h2></center>\n",
    "\n",
    "\n",
    "1. Initialize the parameters of the models, either randomly or doing a \"smart seeding\".\n",
    "\n",
    "2. E Step: Find the posterior probabilities of the latent variable given current parameter values.\n",
    "\n",
    "3. M Step: Reestimate the parameter values given the current posterior probabilities.\n",
    "\n",
    "4. Repeat 2-3 monitoring the likelihood function . Hope for convergence."
   ]
  },
  {
   "cell_type": "markdown",
   "metadata": {
    "slideshow": {
     "slide_type": "slide"
    }
   },
   "source": [
    "<center><h2>Check for understanding</h2></center>\n",
    "\n",
    "<center>What are the Z random variables in K-means?</center>\n",
    "\n",
    "<center><img src=\"../images/e_1.png\" height=\"50%\"/></center>"
   ]
  },
  {
   "cell_type": "markdown",
   "metadata": {
    "slideshow": {
     "slide_type": "fragment"
    }
   },
   "source": [
    "The centers of the clusters which are latent variables."
   ]
  },
  {
   "cell_type": "markdown",
   "metadata": {
    "slideshow": {
     "slide_type": "slide"
    }
   },
   "source": [
    "<center><h2>Gaussian Mixture Model (GMM) <br> A kinder, softer k-means</h2></center>\n",
    "<br>\n",
    "<br>\n",
    "<center><img src=\"../images/expectation-maximization.png\" width=\"100%\"/></center>"
   ]
  },
  {
   "cell_type": "markdown",
   "metadata": {
    "slideshow": {
     "slide_type": "skip"
    }
   },
   "source": [
    "Image source - https://stanford.edu/~shervine/teaching/cs-229/cheatsheet-unsupervised-learning"
   ]
  },
  {
   "cell_type": "markdown",
   "metadata": {
    "slideshow": {
     "slide_type": "slide"
    }
   },
   "source": [
    "<center><h2>Let's code it up</h2></center>"
   ]
  },
  {
   "cell_type": "code",
   "execution_count": 34,
   "metadata": {
    "slideshow": {
     "slide_type": "slide"
    }
   },
   "outputs": [],
   "source": [
    "class GaussianModel:\n",
    "    \"Model univariate Gaussian.\"\n",
    "\n",
    "    def __init__(self, mu, sigma):\n",
    "        self.mu = mu\n",
    "        self.sigma = sigma\n",
    "\n",
    "    def pdf(self, data_point):\n",
    "        \"Probability of a data point given the current parameters.\"\n",
    "        u = (data_point - self.mu) / abs(self.sigma)\n",
    "        y = (1 / (sqrt(2 * pi) * abs(self.sigma))) * exp(-u * u / 2)\n",
    "        return y\n",
    "\n",
    "    def __repr__(self):\n",
    "        return f\"Gaussian(μ={self.mu:4.6}, σ={self.sigma:4.6})\""
   ]
  },
  {
   "cell_type": "code",
   "execution_count": 35,
   "metadata": {
    "slideshow": {
     "slide_type": "skip"
    }
   },
   "outputs": [],
   "source": [
    "from statistics import mean, stdev"
   ]
  },
  {
   "cell_type": "code",
   "execution_count": 36,
   "metadata": {
    "slideshow": {
     "slide_type": "slide"
    }
   },
   "outputs": [
    {
     "name": "stdout",
     "output_type": "stream",
     "text": [
      "Gaussian(μ=1.86285, σ=1.77913)\n"
     ]
    }
   ],
   "source": [
    "best_single = GaussianModel(mean(data), stdev(data))\n",
    "print(best_single)"
   ]
  },
  {
   "cell_type": "code",
   "execution_count": 37,
   "metadata": {
    "slideshow": {
     "slide_type": "skip"
    }
   },
   "outputs": [],
   "source": [
    "x = np.linspace(-6, 8, 200)"
   ]
  },
  {
   "cell_type": "code",
   "execution_count": 38,
   "metadata": {
    "slideshow": {
     "slide_type": "slide"
    }
   },
   "outputs": [
    {
     "data": {
      "image/png": "[encoded data removed]",
      "text/plain": [
       "<Figure size 432x288 with 1 Axes>"
      ]
     },
     "metadata": {
      "needs_background": "light"
     },
     "output_type": "display_data"
    }
   ],
   "source": [
    "g_single = stats.norm(best_single.mu, best_single.sigma).pdf(x)\n",
    "sns.distplot(data, bins=20, kde=False, norm_hist=True)\n",
    "plt.plot(x, g_single, label='single gaussian')\n",
    "plt.legend();"
   ]
  },
  {
   "cell_type": "code",
   "execution_count": 39,
   "metadata": {
    "slideshow": {
     "slide_type": "skip"
    }
   },
   "outputs": [],
   "source": [
    "from math import sqrt, log, exp, pi\n",
    "from random import uniform"
   ]
  },
  {
   "cell_type": "code",
   "execution_count": 40,
   "metadata": {
    "code_folding": [
     3,
     12,
     30,
     47,
     55,
     58
    ],
    "slideshow": {
     "slide_type": "slide"
    }
   },
   "outputs": [],
   "source": [
    "class GaussianMixtureModel:\n",
    "    \"Model mixture of two univariate Gaussians and their EM estimation\"\n",
    "\n",
    "    def __init__(self, data, mu_min=min(data), mu_max=max(data), sigma_min=stdev(data)-1, sigma_max=stdev(data)+1, mix=.5):\n",
    "        self.data = data\n",
    "        # Seed with sampled value value between min and max\n",
    "        self.one = GaussianModel(uniform(mu_min, mu_max),       \n",
    "                            uniform(sigma_min, sigma_max))\n",
    "        self.two = GaussianModel(uniform(mu_min, mu_max), \n",
    "                            uniform(sigma_min, sigma_max))\n",
    "        self.mix = mix\n",
    "\n",
    "    def Estep(self):\n",
    "        \"Perform an E(stimation)-step, freshening up self.loglike in the process\"\n",
    "        # compute weights\n",
    "        self.loglike = 0. # = log(p = 1)\n",
    "        for datum in self.data:\n",
    "            # unnormalized weights\n",
    "            wp1 = self.one.pdf(datum) * self.mix\n",
    "            wp2 = self.two.pdf(datum) * (1. - self.mix)\n",
    "            # compute denominator\n",
    "            den = wp1 + wp2\n",
    "            # normalize\n",
    "            wp1 /= den\n",
    "            wp2 /= den\n",
    "            # add into loglike\n",
    "            self.loglike += log(wp1 + wp2)\n",
    "            # yield weight tuple\n",
    "            yield (wp1, wp2)\n",
    "\n",
    "    def Mstep(self, weights):\n",
    "        \"Perform an M(aximization)-step\"\n",
    "        # compute denominators\n",
    "        (left, rigt) = zip(*weights)\n",
    "        one_den = sum(left)\n",
    "        two_den = sum(rigt)\n",
    "        # compute new means\n",
    "        self.one.mu = sum(w * d / one_den for (w, d) in zip(left, data))\n",
    "        self.two.mu = sum(w * d / two_den for (w, d) in zip(rigt, data))\n",
    "        # compute new sigmas\n",
    "        self.one.sigma = sqrt(sum(w * ((d - self.one.mu) ** 2)\n",
    "                                  for (w, d) in zip(left, data)) / one_den)\n",
    "        self.two.sigma = sqrt(sum(w * ((d - self.two.mu) ** 2)\n",
    "                                  for (w, d) in zip(rigt, data)) / two_den)\n",
    "        # compute new mix\n",
    "        self.mix = one_den / len(data)\n",
    "\n",
    "    def fit(self, n_iter=1, verbose=False):\n",
    "        \"Perform N iterations, then compute log-likelihood\"\n",
    "        for n in range(1, n_iter+1):\n",
    "            self.Mstep(self.Estep())\n",
    "            if verbose:\n",
    "                print(f\"{n:2} {self}\")\n",
    "        self.Estep() # to freshen up self.loglike\n",
    "\n",
    "    def pdf(self, x):\n",
    "        return (self.mix)*self.one.pdf(x) + (1-self.mix)*self.two.pdf(x)\n",
    "        \n",
    "    def __repr__(self):\n",
    "        return f\"GaussianMixture: 1st-{self.one}, 2nd-{self.two}, mix = {self.mix:.03f})\""
   ]
  },
  {
   "cell_type": "markdown",
   "metadata": {
    "slideshow": {
     "slide_type": "skip"
    }
   },
   "source": [
    "HT: https://gist.github.com/kylebgorman/2992206"
   ]
  },
  {
   "cell_type": "code",
   "execution_count": 41,
   "metadata": {
    "slideshow": {
     "slide_type": "slide"
    }
   },
   "outputs": [
    {
     "name": "stdout",
     "output_type": "stream",
     "text": [
      " 1 GaussianMixture: 1st-Gaussian(μ=2.50567, σ=1.53459), 2nd-Gaussian(μ=-0.0170511, σ=0.817583), mix = 0.745)\n",
      " 2 GaussianMixture: 1st-Gaussian(μ=2.54966, σ=1.41373), 2nd-Gaussian(μ=-0.256463, σ=0.830109), mix = 0.755)\n",
      " 3 GaussianMixture: 1st-Gaussian(μ=2.62815, σ=1.2816), 2nd-Gaussian(μ=-0.393875, σ=0.843185), mix = 0.747)\n"
     ]
    }
   ],
   "source": [
    "# Check out the fitting process\n",
    "n_iterations = 5\n",
    "best_mix = None\n",
    "best_loglike = float('-inf')\n",
    "gmm = GaussianMixtureModel(data)\n",
    "try:\n",
    "    gmm.fit(n_iter=3, verbose=True)\n",
    "    if gmm.loglike > best_loglike:\n",
    "        best_loglike = gmm.loglike\n",
    "        best_mix = gmm\n",
    "except (ZeroDivisionError, ValueError, RuntimeWarning): # Catch division errors from bad starts, and just throw them out...\n",
    "    pass"
   ]
  },
  {
   "cell_type": "code",
   "execution_count": 42,
   "metadata": {
    "code_folding": [
     5
    ],
    "slideshow": {
     "slide_type": "slide"
    }
   },
   "outputs": [
    {
     "name": "stdout",
     "output_type": "stream",
     "text": [
      "Computing best model with random restarts...\n",
      "\n",
      " 1 GaussianMixture: 1st-Gaussian(μ=1.68121, σ=1.76202), 2nd-Gaussian(μ=2.07585, σ=1.75601), mix = 0.540)\n",
      " 2 GaussianMixture: 1st-Gaussian(μ=1.68015, σ=1.79772), 2nd-Gaussian(μ=2.07701, σ=1.71279), mix = 0.540)\n",
      " 3 GaussianMixture: 1st-Gaussian(μ=1.6645, σ=1.81726), 2nd-Gaussian(μ=2.09528, σ=1.68397), mix = 0.540)\n",
      " 4 GaussianMixture: 1st-Gaussian(μ=1.64, σ=1.82958), 2nd-Gaussian(μ=2.1239, σ=1.66042), mix = 0.539)\n",
      " 5 GaussianMixture: 1st-Gaussian(μ=1.60904, σ=1.8385), 2nd-Gaussian(μ=2.16007, σ=1.63747), mix = 0.539)\n",
      " 6 GaussianMixture: 1st-Gaussian(μ=1.57244, σ=1.84553), 2nd-Gaussian(μ=2.20285, σ=1.61262), mix = 0.539)\n",
      " 7 GaussianMixture: 1st-Gaussian(μ=1.53025, σ=1.85104), 2nd-Gaussian(μ=2.25215, σ=1.58431), mix = 0.539)\n",
      " 8 GaussianMixture: 1st-Gaussian(μ=1.48221, σ=1.85482), 2nd-Gaussian(μ=2.30838, σ=1.55132), mix = 0.539)\n",
      " 9 GaussianMixture: 1st-Gaussian(μ=1.42784, σ=1.85624), 2nd-Gaussian(μ=2.37219, σ=1.51241), mix = 0.539)\n",
      "10 GaussianMixture: 1st-Gaussian(μ=1.36656, σ=1.85434), 2nd-Gaussian(μ=2.44451, σ=1.46605), mix = 0.540)\n",
      "11 GaussianMixture: 1st-Gaussian(μ=1.29772, σ=1.8478), 2nd-Gaussian(μ=2.52645, σ=1.41019), mix = 0.540)\n",
      "12 GaussianMixture: 1st-Gaussian(μ=1.2207, σ=1.83491), 2nd-Gaussian(μ=2.61917, σ=1.34211), mix = 0.541)\n",
      "13 GaussianMixture: 1st-Gaussian(μ=1.13525, σ=1.81348), 2nd-Gaussian(μ=2.72323, σ=1.25861), mix = 0.542)\n",
      "14 GaussianMixture: 1st-Gaussian(μ=1.04219, σ=1.78102), 2nd-Gaussian(μ=2.83678, σ=1.15773), mix = 0.543)\n",
      "15 GaussianMixture: 1st-Gaussian(μ=0.944699, σ=1.7358), 2nd-Gaussian(μ=2.95229, σ=1.04388), mix = 0.543)\n",
      "16 GaussianMixture: 1st-Gaussian(μ=0.84947, σ=1.6792), 2nd-Gaussian(μ=3.05465, σ=0.935276), mix = 0.540)\n",
      "17 GaussianMixture: 1st-Gaussian(μ=0.765, σ=1.61782), 2nd-Gaussian(μ=3.12932, σ=0.857295), mix = 0.536)\n",
      "18 GaussianMixture: 1st-Gaussian(μ=0.695021, σ=1.55986), 2nd-Gaussian(μ=3.17511, σ=0.816245), mix = 0.529)\n",
      "19 GaussianMixture: 1st-Gaussian(μ=0.635769, σ=1.50923), 2nd-Gaussian(μ=3.19962, σ=0.79924), mix = 0.521)\n",
      "20 GaussianMixture: 1st-Gaussian(μ=0.581959, σ=1.46558), 2nd-Gaussian(μ=3.21004, σ=0.793653), mix = 0.513)\n",
      " 1 GaussianMixture: 1st-Gaussian(μ=2.53382, σ=1.3545), 2nd-Gaussian(μ=-0.120412, σ=1.30738), mix = 0.747)\n",
      " 2 GaussianMixture: 1st-Gaussian(μ=2.62065, σ=1.2973), 2nd-Gaussian(μ=-0.196637, σ=1.12874), mix = 0.731)\n",
      " 3 GaussianMixture: 1st-Gaussian(μ=2.71151, σ=1.20712), 2nd-Gaussian(μ=-0.271897, σ=0.990976), mix = 0.716)\n",
      " 4 GaussianMixture: 1st-Gaussian(μ=2.79451, σ=1.11308), 2nd-Gaussian(μ=-0.30868, σ=0.90067), mix = 0.700)\n",
      " 5 GaussianMixture: 1st-Gaussian(μ=2.85955, σ=1.03682), 2nd-Gaussian(μ=-0.307949, σ=0.861065), mix = 0.685)\n",
      " 6 GaussianMixture: 1st-Gaussian(μ=2.90588, σ=0.984723), 2nd-Gaussian(μ=-0.287368, σ=0.853545), mix = 0.673)\n",
      " 7 GaussianMixture: 1st-Gaussian(μ=2.93814, σ=0.95119), 2nd-Gaussian(μ=-0.261525, σ=0.860155), mix = 0.664)\n",
      " 8 GaussianMixture: 1st-Gaussian(μ=2.9609, σ=0.929289), 2nd-Gaussian(μ=-0.237271, σ=0.871139), mix = 0.657)\n",
      " 9 GaussianMixture: 1st-Gaussian(μ=2.9773, σ=0.914439), 2nd-Gaussian(μ=-0.216716, σ=0.882356), mix = 0.651)\n",
      "10 GaussianMixture: 1st-Gaussian(μ=2.98935, σ=0.904027), 2nd-Gaussian(μ=-0.200003, σ=0.892362), mix = 0.647)\n",
      "11 GaussianMixture: 1st-Gaussian(μ=2.99832, σ=0.896544), 2nd-Gaussian(μ=-0.186651, σ=0.900811), mix = 0.643)\n",
      "12 GaussianMixture: 1st-Gaussian(μ=3.00507, σ=0.891066), 2nd-Gaussian(μ=-0.176066, σ=0.90776), mix = 0.641)\n",
      "13 GaussianMixture: 1st-Gaussian(μ=3.0102, σ=0.886997), 2nd-Gaussian(μ=-0.1677, σ=0.913395), mix = 0.639)\n",
      "14 GaussianMixture: 1st-Gaussian(μ=3.01412, σ=0.883939), 2nd-Gaussian(μ=-0.161095, σ=0.917927), mix = 0.637)\n",
      "15 GaussianMixture: 1st-Gaussian(μ=3.01715, σ=0.881617), 2nd-Gaussian(μ=-0.155883, σ=0.921554), mix = 0.636)\n",
      "16 GaussianMixture: 1st-Gaussian(μ=3.01949, σ=0.87984), 2nd-Gaussian(μ=-0.151769, σ=0.924447), mix = 0.635)\n",
      "17 GaussianMixture: 1st-Gaussian(μ=3.02132, σ=0.87847), 2nd-Gaussian(μ=-0.148521, σ=0.926749), mix = 0.635)\n",
      "18 GaussianMixture: 1st-Gaussian(μ=3.02274, σ=0.87741), 2nd-Gaussian(μ=-0.145955, σ=0.928579), mix = 0.634)\n",
      "19 GaussianMixture: 1st-Gaussian(μ=3.02385, σ=0.876584), 2nd-Gaussian(μ=-0.143927, σ=0.930032), mix = 0.633)\n",
      "20 GaussianMixture: 1st-Gaussian(μ=3.02473, σ=0.875939), 2nd-Gaussian(μ=-0.142323, σ=0.931185), mix = 0.633)\n",
      " 1 GaussianMixture: 1st-Gaussian(μ=2.382, σ=1.50123), 2nd-Gaussian(μ=-0.402312, σ=0.816275), mix = 0.814)\n",
      " 2 GaussianMixture: 1st-Gaussian(μ=2.45498, σ=1.42363), 2nd-Gaussian(μ=-0.478064, σ=0.802389), mix = 0.798)\n",
      " 3 GaussianMixture: 1st-Gaussian(μ=2.53164, σ=1.34316), 2nd-Gaussian(μ=-0.50466, σ=0.807396), mix = 0.780)\n",
      " 4 GaussianMixture: 1st-Gaussian(μ=2.60843, σ=1.2674), 2nd-Gaussian(μ=-0.491929, σ=0.810482), mix = 0.760)\n",
      " 5 GaussianMixture: 1st-Gaussian(μ=2.68321, σ=1.19712), 2nd-Gaussian(μ=-0.457199, σ=0.810622), mix = 0.739)\n",
      " 6 GaussianMixture: 1st-Gaussian(μ=2.75332, σ=1.13068), 2nd-Gaussian(μ=-0.415463, σ=0.812956), mix = 0.719)\n",
      " 7 GaussianMixture: 1st-Gaussian(μ=2.81538, σ=1.07029), 2nd-Gaussian(μ=-0.373203, σ=0.819149), mix = 0.701)\n",
      " 8 GaussianMixture: 1st-Gaussian(μ=2.86683, σ=1.01937), 2nd-Gaussian(μ=-0.333283, σ=0.829114), mix = 0.686)\n",
      " 9 GaussianMixture: 1st-Gaussian(μ=2.90706, σ=0.979754), 2nd-Gaussian(μ=-0.297281, σ=0.841801), mix = 0.674)\n",
      "10 GaussianMixture: 1st-Gaussian(μ=2.93732, σ=0.950695), 2nd-Gaussian(μ=-0.266063, σ=0.855596), mix = 0.665)\n",
      "11 GaussianMixture: 1st-Gaussian(μ=2.95971, σ=0.929974), 2nd-Gaussian(μ=-0.2399, σ=0.868999), mix = 0.657)\n",
      "12 GaussianMixture: 1st-Gaussian(μ=2.97623, σ=0.915255), 2nd-Gaussian(μ=-0.218532, σ=0.881074), mix = 0.651)\n",
      "13 GaussianMixture: 1st-Gaussian(μ=2.98849, σ=0.904717), 2nd-Gaussian(μ=-0.201367, σ=0.89145), mix = 0.647)\n",
      "14 GaussianMixture: 1st-Gaussian(μ=2.99765, σ=0.897079), 2nd-Gaussian(μ=-0.187709, σ=0.900107), mix = 0.644)\n",
      "15 GaussianMixture: 1st-Gaussian(μ=3.00456, σ=0.891472), 2nd-Gaussian(μ=-0.176895, σ=0.907202), mix = 0.641)\n",
      "16 GaussianMixture: 1st-Gaussian(μ=3.0098, σ=0.887303), 2nd-Gaussian(μ=-0.168352, σ=0.912949), mix = 0.639)\n",
      "17 GaussianMixture: 1st-Gaussian(μ=3.01382, σ=0.884171), 2nd-Gaussian(μ=-0.16161, σ=0.917571), mix = 0.638)\n",
      "18 GaussianMixture: 1st-Gaussian(μ=3.01691, σ=0.881794), 2nd-Gaussian(μ=-0.156289, σ=0.92127), mix = 0.636)\n",
      "19 GaussianMixture: 1st-Gaussian(μ=3.01931, σ=0.879976), 2nd-Gaussian(μ=-0.15209, σ=0.924221), mix = 0.635)\n",
      "20 GaussianMixture: 1st-Gaussian(μ=3.02117, σ=0.878576), 2nd-Gaussian(μ=-0.148774, σ=0.926569), mix = 0.635)\n",
      " 1 GaussianMixture: 1st-Gaussian(μ=2.12763, σ=1.68466), 2nd-Gaussian(μ=1.41796, σ=1.8206), mix = 0.627)\n",
      " 2 GaussianMixture: 1st-Gaussian(μ=2.14964, σ=1.65339), 2nd-Gaussian(μ=1.38218, σ=1.8534), mix = 0.626)\n",
      " 3 GaussianMixture: 1st-Gaussian(μ=2.17913, σ=1.62866), 2nd-Gaussian(μ=1.33498, σ=1.86844), mix = 0.625)\n",
      " 4 GaussianMixture: 1st-Gaussian(μ=2.21363, σ=1.60597), 2nd-Gaussian(μ=1.28078, σ=1.87373), mix = 0.624)\n",
      " 5 GaussianMixture: 1st-Gaussian(μ=2.2522, σ=1.58289), 2nd-Gaussian(μ=1.22164, σ=1.87277), mix = 0.622)\n",
      " 6 GaussianMixture: 1st-Gaussian(μ=2.29471, σ=1.55805), 2nd-Gaussian(μ=1.15846, σ=1.86683), mix = 0.620)\n",
      " 7 GaussianMixture: 1st-Gaussian(μ=2.34152, σ=1.5304), 2nd-Gaussian(μ=1.0915, σ=1.85607), mix = 0.617)\n",
      " 8 GaussianMixture: 1st-Gaussian(μ=2.39334, σ=1.49888), 2nd-Gaussian(μ=1.0207, σ=1.84006), mix = 0.614)\n",
      " 9 GaussianMixture: 1st-Gaussian(μ=2.45125, σ=1.46218), 2nd-Gaussian(μ=0.945744, σ=1.81794), mix = 0.609)\n",
      "10 GaussianMixture: 1st-Gaussian(μ=2.51664, σ=1.41849), 2nd-Gaussian(μ=0.866157, σ=1.78842), mix = 0.604)\n",
      "11 GaussianMixture: 1st-Gaussian(μ=2.59112, σ=1.36535), 2nd-Gaussian(μ=0.781401, σ=1.74977), mix = 0.598)\n",
      "12 GaussianMixture: 1st-Gaussian(μ=2.67616, σ=1.29967), 2nd-Gaussian(μ=0.691141, σ=1.69967), mix = 0.590)\n",
      "13 GaussianMixture: 1st-Gaussian(μ=2.77192, σ=1.21838), 2nd-Gaussian(μ=0.595805, σ=1.63556), mix = 0.582)\n",
      "14 GaussianMixture: 1st-Gaussian(μ=2.87487, σ=1.12111), 2nd-Gaussian(μ=0.497563, σ=1.55559), mix = 0.574)\n",
      "15 GaussianMixture: 1st-Gaussian(μ=2.97437, σ=1.01623), 2nd-Gaussian(μ=0.401426, σ=1.46145), mix = 0.568)\n",
      "16 GaussianMixture: 1st-Gaussian(μ=3.05365, σ=0.924845), 2nd-Gaussian(μ=0.314869, σ=1.36227), mix = 0.565)\n",
      "17 GaussianMixture: 1st-Gaussian(μ=3.10138, σ=0.866103), 2nd-Gaussian(μ=0.243629, σ=1.27377), mix = 0.567)\n",
      "18 GaussianMixture: 1st-Gaussian(μ=3.12067, σ=0.838133), 2nd-Gaussian(μ=0.186676, σ=1.20648), mix = 0.571)\n",
      "19 GaussianMixture: 1st-Gaussian(μ=3.12236, σ=0.828342), 2nd-Gaussian(μ=0.139121, σ=1.158), mix = 0.578)\n",
      "20 GaussianMixture: 1st-Gaussian(μ=3.11583, σ=0.827193), 2nd-Gaussian(μ=0.0975887, σ=1.12096), mix = 0.585)\n",
      " 1 GaussianMixture: 1st-Gaussian(μ=2.36875, σ=1.78053), 2nd-Gaussian(μ=1.14325, σ=1.48314), mix = 0.587)\n",
      " 2 GaussianMixture: 1st-Gaussian(μ=2.3596, σ=1.64673), 2nd-Gaussian(μ=1.12618, σ=1.68843), mix = 0.597)\n",
      " 3 GaussianMixture: 1st-Gaussian(μ=2.38649, σ=1.55621), 2nd-Gaussian(μ=1.0825, σ=1.7824), mix = 0.598)\n",
      " 4 GaussianMixture: 1st-Gaussian(μ=2.43282, σ=1.49456), 2nd-Gaussian(μ=1.01979, σ=1.80929), mix = 0.597)\n",
      " 5 GaussianMixture: 1st-Gaussian(μ=2.49215, σ=1.4427), 2nd-Gaussian(μ=0.945903, σ=1.80253), mix = 0.593)\n",
      " 6 GaussianMixture: 1st-Gaussian(μ=2.56238, σ=1.38902), 2nd-Gaussian(μ=0.864641, σ=1.77692), mix = 0.588)\n",
      " 7 GaussianMixture: 1st-Gaussian(μ=2.64359, σ=1.32661), 2nd-Gaussian(μ=0.777247, σ=1.73717), mix = 0.582)\n",
      " 8 GaussianMixture: 1st-Gaussian(μ=2.73603, σ=1.25068), 2nd-Gaussian(μ=0.684321, σ=1.68344), mix = 0.574)\n",
      " 9 GaussianMixture: 1st-Gaussian(μ=2.83782, σ=1.15872), 2nd-Gaussian(μ=0.587311, σ=1.61438), mix = 0.567)\n",
      "10 GaussianMixture: 1st-Gaussian(μ=2.94144, σ=1.05464), 2nd-Gaussian(μ=0.489867, σ=1.52996), mix = 0.560)\n",
      "11 GaussianMixture: 1st-Gaussian(μ=3.03192, σ=0.954905), 2nd-Gaussian(μ=0.398409, σ=1.43535), mix = 0.556)\n",
      "12 GaussianMixture: 1st-Gaussian(μ=3.09415, σ=0.882285), 2nd-Gaussian(μ=0.319763, σ=1.34319), mix = 0.556)\n",
      "13 GaussianMixture: 1st-Gaussian(μ=3.12541, σ=0.843288), 2nd-Gaussian(μ=0.255776, σ=1.26708), mix = 0.560)\n",
      "14 GaussianMixture: 1st-Gaussian(μ=3.13419, σ=0.827193), 2nd-Gaussian(μ=0.202524, σ=1.21038), mix = 0.566)\n",
      "15 GaussianMixture: 1st-Gaussian(μ=3.13076, σ=0.82284), 2nd-Gaussian(μ=0.155855, σ=1.16741), mix = 0.574)\n",
      "16 GaussianMixture: 1st-Gaussian(μ=3.12207, σ=0.823861), 2nd-Gaussian(μ=0.113776, σ=1.13219), mix = 0.581)\n",
      "17 GaussianMixture: 1st-Gaussian(μ=3.11159, σ=0.827207), 2nd-Gaussian(μ=0.0756753, σ=1.10159), mix = 0.589)\n",
      "18 GaussianMixture: 1st-Gaussian(μ=3.10087, σ=0.83151), 2nd-Gaussian(μ=0.0414901, σ=1.07444), mix = 0.595)\n",
      "19 GaussianMixture: 1st-Gaussian(μ=3.09062, σ=0.836148), 2nd-Gaussian(μ=0.0112839, σ=1.05047), mix = 0.601)\n",
      "20 GaussianMixture: 1st-Gaussian(μ=3.08116, σ=0.840806), 2nd-Gaussian(μ=-0.0149442, σ=1.02963), mix = 0.607)\n",
      " 1 GaussianMixture: 1st-Gaussian(μ=3.06834, σ=0.974899), 2nd-Gaussian(μ=0.31028, σ=1.28973), mix = 0.563)\n",
      " 2 GaussianMixture: 1st-Gaussian(μ=3.09284, σ=0.877042), 2nd-Gaussian(μ=0.213899, σ=1.2475), mix = 0.573)\n",
      " 3 GaussianMixture: 1st-Gaussian(μ=3.11094, σ=0.843276), 2nd-Gaussian(μ=0.154907, σ=1.18323), mix = 0.578)\n",
      " 4 GaussianMixture: 1st-Gaussian(μ=3.11312, σ=0.832309), 2nd-Gaussian(μ=0.108939, σ=1.13525), mix = 0.584)\n",
      " 5 GaussianMixture: 1st-Gaussian(μ=3.10702, σ=0.830913), 2nd-Gaussian(μ=0.0698165, σ=1.09951), mix = 0.590)\n",
      " 6 GaussianMixture: 1st-Gaussian(μ=3.09799, σ=0.833436), 2nd-Gaussian(μ=0.0357228, σ=1.07078), mix = 0.597)\n",
      " 7 GaussianMixture: 1st-Gaussian(μ=3.08844, σ=0.837417), 2nd-Gaussian(μ=0.00603937, σ=1.04662), mix = 0.602)\n",
      " 8 GaussianMixture: 1st-Gaussian(μ=3.07934, σ=0.841817), 2nd-Gaussian(μ=-0.0195214, σ=1.0261), mix = 0.607)\n",
      " 9 GaussianMixture: 1st-Gaussian(μ=3.07107, σ=0.846176), 2nd-Gaussian(μ=-0.0412195, σ=1.0088), mix = 0.612)\n",
      "10 GaussianMixture: 1st-Gaussian(μ=3.06377, σ=0.850275), 2nd-Gaussian(μ=-0.0593786, σ=0.994422), mix = 0.615)\n",
      "11 GaussianMixture: 1st-Gaussian(μ=3.05746, σ=0.854002), 2nd-Gaussian(μ=-0.0743863, σ=0.982621), mix = 0.619)\n",
      "12 GaussianMixture: 1st-Gaussian(μ=3.05208, σ=0.857304), 2nd-Gaussian(μ=-0.0866617, σ=0.973048), mix = 0.621)\n",
      "13 GaussianMixture: 1st-Gaussian(μ=3.04757, σ=0.86017), 2nd-Gaussian(μ=-0.0966207, σ=0.965349), mix = 0.623)\n",
      "14 GaussianMixture: 1st-Gaussian(μ=3.04382, σ=0.862612), 2nd-Gaussian(μ=-0.104651, σ=0.959194), mix = 0.625)\n",
      "15 GaussianMixture: 1st-Gaussian(μ=3.04074, σ=0.864665), 2nd-Gaussian(μ=-0.111095, σ=0.954294), mix = 0.626)\n",
      "16 GaussianMixture: 1st-Gaussian(μ=3.03822, σ=0.866369), 2nd-Gaussian(μ=-0.11625, σ=0.950403), mix = 0.627)\n",
      "17 GaussianMixture: 1st-Gaussian(μ=3.03618, σ=0.867771), 2nd-Gaussian(μ=-0.120363, σ=0.947318), mix = 0.628)\n",
      "18 GaussianMixture: 1st-Gaussian(μ=3.03454, σ=0.868914), 2nd-Gaussian(μ=-0.123638, σ=0.944874), mix = 0.629)\n",
      "19 GaussianMixture: 1st-Gaussian(μ=3.03321, σ=0.869842), 2nd-Gaussian(μ=-0.126243, σ=0.942939), mix = 0.630)\n",
      "20 GaussianMixture: 1st-Gaussian(μ=3.03215, σ=0.87059), 2nd-Gaussian(μ=-0.128313, σ=0.941408), mix = 0.630)\n",
      " 1 GaussianMixture: 1st-Gaussian(μ=1.06363, σ=1.72022), 2nd-Gaussian(μ=2.85086, σ=1.25841), mix = 0.553)\n",
      " 2 GaussianMixture: 1st-Gaussian(μ=0.982124, σ=1.72823), 2nd-Gaussian(μ=2.9333, σ=1.10615), mix = 0.549)\n",
      " 3 GaussianMixture: 1st-Gaussian(μ=0.888377, σ=1.69268), 2nd-Gaussian(μ=3.02996, σ=0.977644), mix = 0.545)\n",
      " 4 GaussianMixture: 1st-Gaussian(μ=0.799354, σ=1.63841), 2nd-Gaussian(μ=3.11068, σ=0.881289), mix = 0.540)\n",
      " 5 GaussianMixture: 1st-Gaussian(μ=0.724159, σ=1.5811), 2nd-Gaussian(μ=3.16399, σ=0.826625), mix = 0.533)\n",
      " 6 GaussianMixture: 1st-Gaussian(μ=0.661784, σ=1.52899), 2nd-Gaussian(μ=3.19422, σ=0.802646), mix = 0.526)\n",
      " 7 GaussianMixture: 1st-Gaussian(μ=0.606634, σ=1.48371), 2nd-Gaussian(μ=3.20863, σ=0.794161), mix = 0.517)\n",
      " 8 GaussianMixture: 1st-Gaussian(μ=0.554624, σ=1.4439), 2nd-Gaussian(μ=3.21275, σ=0.792265), mix = 0.508)\n",
      " 9 GaussianMixture: 1st-Gaussian(μ=0.503812, σ=1.40747), 2nd-Gaussian(μ=3.2105, σ=0.793117), mix = 0.498)\n",
      "10 GaussianMixture: 1st-Gaussian(μ=0.453445, σ=1.37269), 2nd-Gaussian(μ=3.2044, σ=0.795215), mix = 0.488)\n",
      "11 GaussianMixture: 1st-Gaussian(μ=0.403344, σ=1.33846), 2nd-Gaussian(μ=3.19597, σ=0.797948), mix = 0.477)\n",
      "12 GaussianMixture: 1st-Gaussian(μ=0.353623, σ=1.30431), 2nd-Gaussian(μ=3.18605, σ=0.801054), mix = 0.467)\n",
      "13 GaussianMixture: 1st-Gaussian(μ=0.304571, σ=1.27012), 2nd-Gaussian(μ=3.17513, σ=0.804434), mix = 0.457)\n",
      "14 GaussianMixture: 1st-Gaussian(μ=0.256595, σ=1.23605), 2nd-Gaussian(μ=3.16355, σ=0.808065), mix = 0.447)\n",
      "15 GaussianMixture: 1st-Gaussian(μ=0.210176, σ=1.20241), 2nd-Gaussian(μ=3.15155, σ=0.811952), mix = 0.438)\n",
      "16 GaussianMixture: 1st-Gaussian(μ=0.165842, σ=1.16962), 2nd-Gaussian(μ=3.13938, σ=0.816104), mix = 0.429)\n",
      "17 GaussianMixture: 1st-Gaussian(μ=0.124129, σ=1.13816), 2nd-Gaussian(μ=3.12727, σ=0.82051), mix = 0.421)\n",
      "18 GaussianMixture: 1st-Gaussian(μ=0.0855378, σ=1.10855), 2nd-Gaussian(μ=3.11545, σ=0.825131), mix = 0.413)\n",
      "19 GaussianMixture: 1st-Gaussian(μ=0.0504831, σ=1.08126), 2nd-Gaussian(μ=3.10413, σ=0.829898), mix = 0.406)\n",
      "20 GaussianMixture: 1st-Gaussian(μ=0.0192487, σ=1.05669), 2nd-Gaussian(μ=3.09351, σ=0.834717), mix = 0.400)\n",
      " 1 GaussianMixture: 1st-Gaussian(μ=0.454309, σ=1.39274), 2nd-Gaussian(μ=2.61873, σ=1.4623), mix = 0.349)\n",
      " 2 GaussianMixture: 1st-Gaussian(μ=0.294562, σ=1.44003), 2nd-Gaussian(μ=2.68628, σ=1.31179), mix = 0.344)\n",
      " 3 GaussianMixture: 1st-Gaussian(μ=0.172759, σ=1.36432), 2nd-Gaussian(μ=2.77458, σ=1.20326), mix = 0.350)\n",
      " 4 GaussianMixture: 1st-Gaussian(μ=0.0686055, σ=1.24602), 2nd-Gaussian(μ=2.86916, σ=1.09646), mix = 0.359)\n",
      " 5 GaussianMixture: 1st-Gaussian(μ=-0.01422, σ=1.12553), 2nd-Gaussian(μ=2.95067, σ=0.995134), mix = 0.367)\n",
      " 6 GaussianMixture: 1st-Gaussian(μ=-0.0679709, σ=1.03452), 2nd-Gaussian(μ=3.00294, σ=0.922461), mix = 0.371)\n",
      " 7 GaussianMixture: 1st-Gaussian(μ=-0.0960638, σ=0.984227), 2nd-Gaussian(μ=3.02669, σ=0.886311), mix = 0.373)\n",
      " 8 GaussianMixture: 1st-Gaussian(μ=-0.109706, σ=0.961718), 2nd-Gaussian(μ=3.03429, σ=0.87314), mix = 0.373)\n",
      " 9 GaussianMixture: 1st-Gaussian(μ=-0.117009, σ=0.951911), 2nd-Gaussian(μ=3.03554, σ=0.869528), mix = 0.372)\n",
      "10 GaussianMixture: 1st-Gaussian(μ=-0.121578, σ=0.947074), 2nd-Gaussian(μ=3.03484, σ=0.86912), mix = 0.371)\n",
      "11 GaussianMixture: 1st-Gaussian(μ=-0.124801, σ=0.94422), 2nd-Gaussian(μ=3.03371, σ=0.869621), mix = 0.371)\n",
      "12 GaussianMixture: 1st-Gaussian(μ=-0.12723, σ=0.942275), 2nd-Gaussian(μ=3.03263, σ=0.87029), mix = 0.370)\n",
      "13 GaussianMixture: 1st-Gaussian(μ=-0.129116, σ=0.940836), 2nd-Gaussian(μ=3.03171, σ=0.870913), mix = 0.370)\n",
      "14 GaussianMixture: 1st-Gaussian(μ=-0.1306, σ=0.939728), 2nd-Gaussian(μ=3.03096, σ=0.871439), mix = 0.369)\n",
      "15 GaussianMixture: 1st-Gaussian(μ=-0.131773, σ=0.938862), 2nd-Gaussian(μ=3.03035, σ=0.871868), mix = 0.369)\n",
      "16 GaussianMixture: 1st-Gaussian(μ=-0.132701, σ=0.938179), 2nd-Gaussian(μ=3.02987, σ=0.872213), mix = 0.369)\n",
      "17 GaussianMixture: 1st-Gaussian(μ=-0.133437, σ=0.937639), 2nd-Gaussian(μ=3.02948, σ=0.872489), mix = 0.369)\n",
      "18 GaussianMixture: 1st-Gaussian(μ=-0.13402, σ=0.937212), 2nd-Gaussian(μ=3.02917, σ=0.872709), mix = 0.369)\n",
      "19 GaussianMixture: 1st-Gaussian(μ=-0.134482, σ=0.936875), 2nd-Gaussian(μ=3.02893, σ=0.872884), mix = 0.369)\n",
      "20 GaussianMixture: 1st-Gaussian(μ=-0.134848, σ=0.936607), 2nd-Gaussian(μ=3.02874, σ=0.873023), mix = 0.369)\n",
      " 1 GaussianMixture: 1st-Gaussian(μ=3.20314, σ=0.891811), 2nd-Gaussian(μ=1.25682, σ=1.73535), mix = 0.311)\n",
      " 2 GaussianMixture: 1st-Gaussian(μ=3.22177, σ=0.788572), 2nd-Gaussian(μ=1.18435, σ=1.73361), mix = 0.333)\n",
      " 3 GaussianMixture: 1st-Gaussian(μ=3.23224, σ=0.744663), 2nd-Gaussian(μ=1.11936, σ=1.72136), mix = 0.352)\n",
      " 4 GaussianMixture: 1st-Gaussian(μ=3.23736, σ=0.729531), 2nd-Gaussian(μ=1.06577, σ=1.70626), mix = 0.367)\n",
      " 5 GaussianMixture: 1st-Gaussian(μ=3.24039, σ=0.727847), 2nd-Gaussian(μ=1.01953, σ=1.68963), mix = 0.380)\n",
      " 6 GaussianMixture: 1st-Gaussian(μ=3.24266, σ=0.732198), 2nd-Gaussian(μ=0.976608, σ=1.67146), mix = 0.391)\n",
      " 7 GaussianMixture: 1st-Gaussian(μ=3.24444, σ=0.738953), 2nd-Gaussian(μ=0.934576, σ=1.65168), mix = 0.402)\n",
      " 8 GaussianMixture: 1st-Gaussian(μ=3.24562, σ=0.746345), 2nd-Gaussian(μ=0.892252, σ=1.63037), mix = 0.412)\n",
      " 9 GaussianMixture: 1st-Gaussian(μ=3.24598, σ=0.753551), 2nd-Gaussian(μ=0.849146, σ=1.60764), mix = 0.423)\n",
      "10 GaussianMixture: 1st-Gaussian(μ=3.24535, σ=0.760232), 2nd-Gaussian(μ=0.805097, σ=1.58362), mix = 0.433)\n",
      "11 GaussianMixture: 1st-Gaussian(μ=3.24364, σ=0.766291), 2nd-Gaussian(μ=0.760078, σ=1.55839), mix = 0.444)\n",
      "12 GaussianMixture: 1st-Gaussian(μ=3.24081, σ=0.771744), 2nd-Gaussian(μ=0.714114, σ=1.532), mix = 0.455)\n",
      "13 GaussianMixture: 1st-Gaussian(μ=3.23683, σ=0.776654), 2nd-Gaussian(μ=0.667249, σ=1.50447), mix = 0.465)\n",
      "14 GaussianMixture: 1st-Gaussian(μ=3.23173, σ=0.781101), 2nd-Gaussian(μ=0.619543, σ=1.47579), mix = 0.476)\n",
      "15 GaussianMixture: 1st-Gaussian(μ=3.22553, σ=0.78517), 2nd-Gaussian(μ=0.571085, σ=1.446), mix = 0.487)\n",
      "16 GaussianMixture: 1st-Gaussian(μ=3.21826, σ=0.788948), 2nd-Gaussian(μ=0.521998, σ=1.41514), mix = 0.497)\n",
      "17 GaussianMixture: 1st-Gaussian(μ=3.20997, σ=0.792522), 2nd-Gaussian(μ=0.472455, σ=1.38329), mix = 0.508)\n",
      "18 GaussianMixture: 1st-Gaussian(μ=3.20072, σ=0.795981), 2nd-Gaussian(μ=0.422686, σ=1.35058), mix = 0.518)\n",
      "19 GaussianMixture: 1st-Gaussian(μ=3.1906, σ=0.799414), 2nd-Gaussian(μ=0.372985, σ=1.31719), mix = 0.529)\n",
      "20 GaussianMixture: 1st-Gaussian(μ=3.17973, σ=0.802907), 2nd-Gaussian(μ=0.323713, σ=1.28334), mix = 0.539)\n",
      " 1 GaussianMixture: 1st-Gaussian(μ=2.49163, σ=1.54716), 2nd-Gaussian(μ=0.79075, σ=1.60369), mix = 0.630)\n",
      " 2 GaussianMixture: 1st-Gaussian(μ=2.54146, σ=1.43961), 2nd-Gaussian(μ=0.699826, σ=1.67645), mix = 0.632)\n",
      " 3 GaussianMixture: 1st-Gaussian(μ=2.60996, σ=1.36219), 2nd-Gaussian(μ=0.60749, σ=1.66356), mix = 0.627)\n",
      " 4 GaussianMixture: 1st-Gaussian(μ=2.69347, σ=1.28643), 2nd-Gaussian(μ=0.51118, σ=1.60945), mix = 0.619)\n",
      " 5 GaussianMixture: 1st-Gaussian(μ=2.78882, σ=1.19902), 2nd-Gaussian(μ=0.411131, σ=1.53), mix = 0.611)\n",
      " 6 GaussianMixture: 1st-Gaussian(μ=2.88926, σ=1.09777), 2nd-Gaussian(μ=0.310622, σ=1.43093), mix = 0.602)\n",
      " 7 GaussianMixture: 1st-Gaussian(μ=2.98066, σ=0.994151), 2nd-Gaussian(μ=0.217013, σ=1.32057), mix = 0.596)\n",
      " 8 GaussianMixture: 1st-Gaussian(μ=3.04565, σ=0.911915), 2nd-Gaussian(μ=0.139523, σ=1.21637), mix = 0.593)\n",
      " 9 GaussianMixture: 1st-Gaussian(μ=3.07812, σ=0.865386), 2nd-Gaussian(μ=0.0819928, σ=1.13694), mix = 0.594)\n",
      "10 GaussianMixture: 1st-Gaussian(μ=3.08702, σ=0.846709), 2nd-Gaussian(μ=0.039801, σ=1.08512), mix = 0.598)\n",
      "11 GaussianMixture: 1st-Gaussian(μ=3.08444, σ=0.842261), 2nd-Gaussian(μ=0.00702327, σ=1.05139), mix = 0.603)\n",
      "12 GaussianMixture: 1st-Gaussian(μ=3.07782, σ=0.843581), 2nd-Gaussian(μ=-0.0196127, σ=1.0274), mix = 0.608)\n",
      "13 GaussianMixture: 1st-Gaussian(μ=3.07041, σ=0.84686), 2nd-Gaussian(μ=-0.0416269, σ=1.00894), mix = 0.612)\n",
      "14 GaussianMixture: 1st-Gaussian(μ=3.06342, σ=0.850584), 2nd-Gaussian(μ=-0.059832, σ=0.994216), mix = 0.616)\n",
      "15 GaussianMixture: 1st-Gaussian(μ=3.05723, σ=0.854175), 2nd-Gaussian(μ=-0.0747981, σ=0.982349), mix = 0.619)\n",
      "16 GaussianMixture: 1st-Gaussian(μ=3.05191, σ=0.857424), 2nd-Gaussian(μ=-0.0870102, σ=0.972794), mix = 0.621)\n",
      "17 GaussianMixture: 1st-Gaussian(μ=3.04743, σ=0.860262), 2nd-Gaussian(μ=-0.0969069, σ=0.965134), mix = 0.623)\n",
      "18 GaussianMixture: 1st-Gaussian(μ=3.04371, σ=0.862687), 2nd-Gaussian(μ=-0.104882, σ=0.959019), mix = 0.625)\n",
      "19 GaussianMixture: 1st-Gaussian(μ=3.04065, σ=0.864726), 2nd-Gaussian(μ=-0.111281, σ=0.954153), mix = 0.626)\n",
      "20 GaussianMixture: 1st-Gaussian(μ=3.03815, σ=0.866419), 2nd-Gaussian(μ=-0.116399, σ=0.950291), mix = 0.627)\n",
      " 1 GaussianMixture: 1st-Gaussian(μ=1.31681, σ=1.96277), 2nd-Gaussian(μ=2.07357, σ=1.64219), mix = 0.278)\n",
      " 2 GaussianMixture: 1st-Gaussian(μ=1.24871, σ=1.92231), 2nd-Gaussian(μ=2.10173, σ=1.64665), mix = 0.280)\n",
      " 3 GaussianMixture: 1st-Gaussian(μ=1.18759, σ=1.9028), 2nd-Gaussian(μ=2.12785, σ=1.64116), mix = 0.282)\n",
      " 4 GaussianMixture: 1st-Gaussian(μ=1.12787, σ=1.89074), 2nd-Gaussian(μ=2.15421, σ=1.63086), mix = 0.284)\n",
      " 5 GaussianMixture: 1st-Gaussian(μ=1.06756, σ=1.88019), 2nd-Gaussian(μ=2.1818, σ=1.6178), mix = 0.286)\n",
      " 6 GaussianMixture: 1st-Gaussian(μ=1.00587, σ=1.86833), 2nd-Gaussian(μ=2.21118, σ=1.60272), mix = 0.289)\n",
      " 7 GaussianMixture: 1st-Gaussian(μ=0.942357, σ=1.8537), 2nd-Gaussian(μ=2.24285, σ=1.58574), mix = 0.292)\n",
      " 8 GaussianMixture: 1st-Gaussian(μ=0.87662, σ=1.83533), 2nd-Gaussian(μ=2.27735, σ=1.56665), mix = 0.296)\n",
      " 9 GaussianMixture: 1st-Gaussian(μ=0.80814, σ=1.81237), 2nd-Gaussian(μ=2.31537, σ=1.54493), mix = 0.300)\n",
      "10 GaussianMixture: 1st-Gaussian(μ=0.73623, σ=1.78381), 2nd-Gaussian(μ=2.35781, σ=1.51981), mix = 0.305)\n",
      "11 GaussianMixture: 1st-Gaussian(μ=0.660019, σ=1.74833), 2nd-Gaussian(μ=2.40582, σ=1.49014), mix = 0.311)\n",
      "12 GaussianMixture: 1st-Gaussian(μ=0.578483, σ=1.7041), 2nd-Gaussian(μ=2.46083, σ=1.4543), mix = 0.318)\n",
      "13 GaussianMixture: 1st-Gaussian(μ=0.49058, σ=1.64868), 2nd-Gaussian(μ=2.52456, σ=1.41001), mix = 0.325)\n",
      "14 GaussianMixture: 1st-Gaussian(μ=0.395599, σ=1.5789), 2nd-Gaussian(μ=2.5987, σ=1.3542), mix = 0.334)\n",
      "15 GaussianMixture: 1st-Gaussian(μ=0.29398, σ=1.49134), 2nd-Gaussian(μ=2.68421, σ=1.28321), mix = 0.344)\n",
      "16 GaussianMixture: 1st-Gaussian(μ=0.188891, σ=1.38411), 2nd-Gaussian(μ=2.77924, σ=1.19442), mix = 0.354)\n",
      "17 GaussianMixture: 1st-Gaussian(μ=0.0883214, σ=1.26152), 2nd-Gaussian(μ=2.87572, σ=1.09118), mix = 0.363)\n",
      "18 GaussianMixture: 1st-Gaussian(μ=0.00500166, σ=1.14082), 2nd-Gaussian(μ=2.95754, σ=0.990517), mix = 0.371)\n",
      "19 GaussianMixture: 1st-Gaussian(μ=-0.0509103, σ=1.04841), 2nd-Gaussian(μ=3.00957, σ=0.918262), mix = 0.375)\n",
      "20 GaussianMixture: 1st-Gaussian(μ=-0.0817912, σ=0.995666), 2nd-Gaussian(μ=3.03275, σ=0.882482), mix = 0.376)\n",
      " 1 GaussianMixture: 1st-Gaussian(μ=1.99939, σ=1.69636), 2nd-Gaussian(μ=1.49462, σ=1.90743), mix = 0.730)\n",
      " 2 GaussianMixture: 1st-Gaussian(μ=2.01936, σ=1.69479), 2nd-Gaussian(μ=1.4422, σ=1.89561), mix = 0.729)\n",
      " 3 GaussianMixture: 1st-Gaussian(μ=2.03875, σ=1.68894), 2nd-Gaussian(μ=1.39202, σ=1.89255), mix = 0.728)\n",
      " 4 GaussianMixture: 1st-Gaussian(μ=2.05866, σ=1.68072), 2nd-Gaussian(μ=1.34128, σ=1.89265), mix = 0.727)\n",
      " 5 GaussianMixture: 1st-Gaussian(μ=2.07957, σ=1.67099), 2nd-Gaussian(μ=1.28897, σ=1.89318), mix = 0.726)\n",
      " 6 GaussianMixture: 1st-Gaussian(μ=2.1017, σ=1.66011), 2nd-Gaussian(μ=1.23479, σ=1.89271), mix = 0.724)\n",
      " 7 GaussianMixture: 1st-Gaussian(μ=2.12517, σ=1.64824), 2nd-Gaussian(μ=1.17875, σ=1.89041), mix = 0.723)\n",
      " 8 GaussianMixture: 1st-Gaussian(μ=2.15014, σ=1.63537), 2nd-Gaussian(μ=1.12094, σ=1.88575), mix = 0.721)\n",
      " 9 GaussianMixture: 1st-Gaussian(μ=2.17676, σ=1.62143), 2nd-Gaussian(μ=1.06142, σ=1.87834), mix = 0.719)\n",
      "10 GaussianMixture: 1st-Gaussian(μ=2.20529, σ=1.60625), 2nd-Gaussian(μ=1.00017, σ=1.86781), mix = 0.716)\n",
      "11 GaussianMixture: 1st-Gaussian(μ=2.23608, σ=1.58957), 2nd-Gaussian(μ=0.937033, σ=1.85377), mix = 0.713)\n",
      "12 GaussianMixture: 1st-Gaussian(μ=2.26963, σ=1.571), 2nd-Gaussian(μ=0.871693, σ=1.83574), mix = 0.709)\n",
      "13 GaussianMixture: 1st-Gaussian(μ=2.30657, σ=1.55), 2nd-Gaussian(μ=0.803668, σ=1.81306), mix = 0.705)\n",
      "14 GaussianMixture: 1st-Gaussian(μ=2.34775, σ=1.52578), 2nd-Gaussian(μ=0.732281, σ=1.78486), mix = 0.700)\n",
      "15 GaussianMixture: 1st-Gaussian(μ=2.39429, σ=1.49726), 2nd-Gaussian(μ=0.656662, σ=1.74986), mix = 0.694)\n",
      "16 GaussianMixture: 1st-Gaussian(μ=2.44757, σ=1.46291), 2nd-Gaussian(μ=0.575779, σ=1.70632), mix = 0.688)\n",
      "17 GaussianMixture: 1st-Gaussian(μ=2.50925, σ=1.42057), 2nd-Gaussian(μ=0.488553, σ=1.65183), mix = 0.680)\n",
      "18 GaussianMixture: 1st-Gaussian(μ=2.58111, σ=1.36728), 2nd-Gaussian(μ=0.394174, σ=1.58329), mix = 0.672)\n",
      "19 GaussianMixture: 1st-Gaussian(μ=2.6643, σ=1.29942), 2nd-Gaussian(μ=0.292861, σ=1.49718), mix = 0.662)\n",
      "20 GaussianMixture: 1st-Gaussian(μ=2.7577, σ=1.2139), 2nd-Gaussian(μ=0.187367, σ=1.39121), mix = 0.652)\n",
      " 1 GaussianMixture: 1st-Gaussian(μ=2.06357, σ=1.51077), 2nd-Gaussian(μ=1.44853, σ=2.15313), mix = 0.674)\n",
      " 2 GaussianMixture: 1st-Gaussian(μ=2.12855, σ=1.58156), 2nd-Gaussian(μ=1.3207, σ=1.99649), mix = 0.671)\n",
      " 3 GaussianMixture: 1st-Gaussian(μ=2.17173, σ=1.59818), 2nd-Gaussian(μ=1.23913, σ=1.92928), mix = 0.669)\n",
      " 4 GaussianMixture: 1st-Gaussian(μ=2.20924, σ=1.59387), 2nd-Gaussian(μ=1.17098, σ=1.89743), mix = 0.666)\n",
      " 5 GaussianMixture: 1st-Gaussian(μ=2.24649, σ=1.57997), 2nd-Gaussian(μ=1.10578, σ=1.87825), mix = 0.664)\n",
      " 6 GaussianMixture: 1st-Gaussian(μ=2.2857, σ=1.56064), 2nd-Gaussian(μ=1.03987, σ=1.86198), mix = 0.661)\n",
      " 7 GaussianMixture: 1st-Gaussian(μ=2.32818, σ=1.53722), 2nd-Gaussian(μ=0.971773, σ=1.84411), mix = 0.657)\n",
      " 8 GaussianMixture: 1st-Gaussian(μ=2.375, σ=1.50969), 2nd-Gaussian(μ=0.90066, σ=1.82221), mix = 0.653)\n",
      " 9 GaussianMixture: 1st-Gaussian(μ=2.42738, σ=1.47725), 2nd-Gaussian(μ=0.825829, σ=1.79457), mix = 0.648)\n",
      "10 GaussianMixture: 1st-Gaussian(μ=2.48674, σ=1.43842), 2nd-Gaussian(μ=0.746515, σ=1.75952), mix = 0.641)\n",
      "11 GaussianMixture: 1st-Gaussian(μ=2.55476, σ=1.39098), 2nd-Gaussian(μ=0.661915, σ=1.71502), mix = 0.634)\n",
      "12 GaussianMixture: 1st-Gaussian(μ=2.63307, σ=1.33198), 2nd-Gaussian(μ=0.571404, σ=1.6585), mix = 0.626)\n",
      "13 GaussianMixture: 1st-Gaussian(μ=2.72252, σ=1.25801), 2nd-Gaussian(μ=0.475075, σ=1.58702), mix = 0.617)\n",
      "14 GaussianMixture: 1st-Gaussian(μ=2.8211, σ=1.16702), 2nd-Gaussian(μ=0.3748, σ=1.49824), mix = 0.608)\n",
      "15 GaussianMixture: 1st-Gaussian(μ=2.92061, σ=1.06322), 2nd-Gaussian(μ=0.275691, σ=1.39341), mix = 0.600)\n",
      "16 GaussianMixture: 1st-Gaussian(μ=3.00499, σ=0.96389), 2nd-Gaussian(μ=0.186527, σ=1.28245), mix = 0.595)\n",
      "17 GaussianMixture: 1st-Gaussian(μ=3.05903, σ=0.892998), 2nd-Gaussian(μ=0.115805, σ=1.18483), mix = 0.594)\n",
      "18 GaussianMixture: 1st-Gaussian(μ=3.08229, σ=0.857198), 2nd-Gaussian(μ=0.064299, σ=1.11523), mix = 0.596)\n",
      "19 GaussianMixture: 1st-Gaussian(μ=3.08625, σ=0.844533), 2nd-Gaussian(μ=0.0260069, σ=1.07077), mix = 0.600)\n",
      "20 GaussianMixture: 1st-Gaussian(μ=3.08181, σ=0.842644), 2nd-Gaussian(μ=-0.00421634, σ=1.04118), mix = 0.605)\n",
      " 1 GaussianMixture: 1st-Gaussian(μ=2.0539, σ=2.01485), 2nd-Gaussian(μ=1.69219, σ=1.49827), mix = 0.472)\n",
      " 2 GaussianMixture: 1st-Gaussian(μ=1.94768, σ=1.89565), 2nd-Gaussian(μ=1.78588, σ=1.64439), mix = 0.476)\n",
      " 3 GaussianMixture: 1st-Gaussian(μ=1.8947, σ=1.83333), 2nd-Gaussian(μ=1.83391, σ=1.71035), mix = 0.476)\n",
      " 4 GaussianMixture: 1st-Gaussian(μ=1.86866, σ=1.80329), 2nd-Gaussian(μ=1.85757, σ=1.7396), mix = 0.476)\n",
      " 5 GaussianMixture: 1st-Gaussian(μ=1.85518, σ=1.78954), 2nd-Gaussian(μ=1.86982, σ=1.75245), mix = 0.476)\n",
      " 6 GaussianMixture: 1st-Gaussian(μ=1.84734, σ=1.78365), 2nd-Gaussian(μ=1.87694, σ=1.7578), mix = 0.476)\n",
      " 7 GaussianMixture: 1st-Gaussian(μ=1.84188, σ=1.78156), 2nd-Gaussian(μ=1.8819, σ=1.75963), mix = 0.476)\n",
      " 8 GaussianMixture: 1st-Gaussian(μ=1.83724, σ=1.78134), 2nd-Gaussian(μ=1.88611, σ=1.75973), mix = 0.476)\n",
      " 9 GaussianMixture: 1st-Gaussian(μ=1.83268, σ=1.7821), 2nd-Gaussian(μ=1.89026, σ=1.7589), mix = 0.476)\n",
      "10 GaussianMixture: 1st-Gaussian(μ=1.82778, σ=1.78343), 2nd-Gaussian(μ=1.89472, σ=1.75751), mix = 0.476)\n",
      "11 GaussianMixture: 1st-Gaussian(μ=1.8223, σ=1.78518), 2nd-Gaussian(μ=1.89969, σ=1.7557), mix = 0.476)\n",
      "12 GaussianMixture: 1st-Gaussian(μ=1.81608, σ=1.78726), 2nd-Gaussian(μ=1.90535, σ=1.7535), mix = 0.476)\n",
      "13 GaussianMixture: 1st-Gaussian(μ=1.80895, σ=1.78968), 2nd-Gaussian(μ=1.91182, σ=1.7509), mix = 0.476)\n",
      "14 GaussianMixture: 1st-Gaussian(μ=1.80077, σ=1.79244), 2nd-Gaussian(μ=1.91926, σ=1.74786), mix = 0.476)\n",
      "15 GaussianMixture: 1st-Gaussian(μ=1.79138, σ=1.79557), 2nd-Gaussian(μ=1.92779, σ=1.74432), mix = 0.476)\n",
      "16 GaussianMixture: 1st-Gaussian(μ=1.78059, σ=1.7991), 2nd-Gaussian(μ=1.9376, σ=1.74019), mix = 0.476)\n",
      "17 GaussianMixture: 1st-Gaussian(μ=1.7682, σ=1.80304), 2nd-Gaussian(μ=1.94886, σ=1.73538), mix = 0.476)\n",
      "18 GaussianMixture: 1st-Gaussian(μ=1.75399, σ=1.80744), 2nd-Gaussian(μ=1.96178, σ=1.72977), mix = 0.476)\n",
      "19 GaussianMixture: 1st-Gaussian(μ=1.73772, σ=1.81229), 2nd-Gaussian(μ=1.97658, σ=1.72323), mix = 0.476)\n",
      "20 GaussianMixture: 1st-Gaussian(μ=1.7191, σ=1.8176), 2nd-Gaussian(μ=1.99351, σ=1.7156), mix = 0.476)\n",
      " 1 GaussianMixture: 1st-Gaussian(μ=1.18887, σ=1.69759), 2nd-Gaussian(μ=2.90378, σ=1.31815), mix = 0.607)\n",
      " 2 GaussianMixture: 1st-Gaussian(μ=1.13006, σ=1.74595), 2nd-Gaussian(μ=2.95659, σ=1.12396), mix = 0.599)\n",
      " 3 GaussianMixture: 1st-Gaussian(μ=1.04329, σ=1.73411), 2nd-Gaussian(μ=3.0448, σ=0.974917), mix = 0.591)\n",
      " 4 GaussianMixture: 1st-Gaussian(μ=0.954304, σ=1.69736), 2nd-Gaussian(μ=3.12226, σ=0.868064), mix = 0.581)\n",
      " 5 GaussianMixture: 1st-Gaussian(μ=0.877992, σ=1.65384), 2nd-Gaussian(μ=3.17347, σ=0.809604), mix = 0.571)\n",
      " 6 GaussianMixture: 1st-Gaussian(μ=0.815997, σ=1.61235), 2nd-Gaussian(μ=3.20356, σ=0.785181), mix = 0.562)\n",
      " 7 GaussianMixture: 1st-Gaussian(μ=0.762532, σ=1.57462), 2nd-Gaussian(μ=3.22015, σ=0.7778), mix = 0.552)\n",
      " 8 GaussianMixture: 1st-Gaussian(μ=0.712671, σ=1.53996), 2nd-Gaussian(μ=3.22799, σ=0.777514), mix = 0.543)\n",
      " 9 GaussianMixture: 1st-Gaussian(μ=0.663934, σ=1.50733), 2nd-Gaussian(μ=3.22997, σ=0.779817), mix = 0.533)\n",
      "10 GaussianMixture: 1st-Gaussian(μ=0.615281, σ=1.47569), 2nd-Gaussian(μ=3.228, σ=0.782958), mix = 0.523)\n",
      "11 GaussianMixture: 1st-Gaussian(μ=0.566325, σ=1.44427), 2nd-Gaussian(μ=3.22333, σ=0.786322), mix = 0.512)\n",
      "12 GaussianMixture: 1st-Gaussian(μ=0.516974, σ=1.41252), 2nd-Gaussian(μ=3.21676, σ=0.789712), mix = 0.501)\n",
      "13 GaussianMixture: 1st-Gaussian(μ=0.467296, σ=1.3802), 2nd-Gaussian(μ=3.20874, σ=0.793077), mix = 0.491)\n",
      "14 GaussianMixture: 1st-Gaussian(μ=0.417473, σ=1.34723), 2nd-Gaussian(μ=3.19956, σ=0.796431), mix = 0.480)\n",
      "15 GaussianMixture: 1st-Gaussian(μ=0.367779, σ=1.31369), 2nd-Gaussian(μ=3.18944, σ=0.799818), mix = 0.470)\n",
      "16 GaussianMixture: 1st-Gaussian(μ=0.318566, σ=1.27978), 2nd-Gaussian(μ=3.17852, σ=0.803299), mix = 0.460)\n",
      "17 GaussianMixture: 1st-Gaussian(μ=0.270263, σ=1.24576), 2nd-Gaussian(μ=3.167, σ=0.806936), mix = 0.450)\n",
      "18 GaussianMixture: 1st-Gaussian(μ=0.223354, σ=1.212), 2nd-Gaussian(μ=3.15506, σ=0.810782), mix = 0.441)\n",
      "19 GaussianMixture: 1st-Gaussian(μ=0.178369, σ=1.17894), 2nd-Gaussian(μ=3.1429, σ=0.814872), mix = 0.432)\n",
      "20 GaussianMixture: 1st-Gaussian(μ=0.135849, σ=1.14705), 2nd-Gaussian(μ=3.13074, σ=0.819213), mix = 0.423)\n",
      "\n",
      "\n",
      "Done. 🙂\n"
     ]
    }
   ],
   "source": [
    "# Find best Mixture Gaussian model\n",
    "n_random_restarts = 15\n",
    "best_mix = None\n",
    "best_loglike = float('-inf')\n",
    "print('Computing best model with random restarts...\\n')\n",
    "for _ in range(n_random_restarts):\n",
    "    gmm = GaussianMixtureModel(data)\n",
    "    try:\n",
    "        gmm.fit(n_iter=20, verbose=True)\n",
    "        if gmm.loglike > best_loglike:\n",
    "            best_loglike = gmm.loglike\n",
    "            best_mix = gmm\n",
    "    except (ZeroDivisionError, ValueError, RuntimeWarning): # Catch division errors from bad starts, and just throw them out...\n",
    "        pass\n",
    "print('\\n\\nDone. 🙂')"
   ]
  },
  {
   "cell_type": "code",
   "execution_count": 43,
   "metadata": {
    "slideshow": {
     "slide_type": "slide"
    }
   },
   "outputs": [
    {
     "data": {
      "image/png": "[encoded data removed]",
      "text/plain": [
       "<Figure size 432x288 with 1 Axes>"
      ]
     },
     "metadata": {
      "needs_background": "light"
     },
     "output_type": "display_data"
    }
   ],
   "source": [
    "sns.distplot(data, bins=20, kde=False, norm_hist=True)\n",
    "g_both = [best_mix.pdf(e) for e in x]\n",
    "plt.plot(x, g_both, label='gaussian mixture');\n",
    "plt.legend();"
   ]
  },
  {
   "cell_type": "markdown",
   "metadata": {
    "slideshow": {
     "slide_type": "slide"
    }
   },
   "source": [
    "<center><h2>Takeaways</h2></center>\n",
    "\n",
    "- Gaussian Mixture Models (GMM) take our old friend the Gaussian and add another Gaussian(s).\n",
    "- Expectation–Maximization (EM) Algorithm is an iterative parameter estimation process for models with a latent variables:\n",
    "    1. Initialize the parameter estimates.\n",
    "    2. Given the current parameter estimates, find the minimum likelihood for data and latent variables.\n",
    "    3. Given the current data, find better parameter estimates.\n",
    "    3. Repeat steps 2 & 3.\n",
    "- Gaussian Mixture Models (GMM) are often fit with Expectation–Maximization (EM) Algorithm."
   ]
  },
  {
   "cell_type": "markdown",
   "metadata": {
    "slideshow": {
     "slide_type": "slide"
    }
   },
   "source": [
    "Further Study\n",
    "------\n",
    "\n",
    "- [mathematicalmonk's video series on the subject](https://www.youtube.com/playlist?list=PLD0F06AA0D2E8FFBA)\n",
    "- [EM Demystified- An Expectation-Maximization Tutorial](https://www2.ee.washington.edu/techsite/papers/documents/UWEETR-2010-0002.pdf)\n"
   ]
  },
  {
   "cell_type": "markdown",
   "metadata": {
    "slideshow": {
     "slide_type": "slide"
    }
   },
   "source": [
    "K-means assumes the following to develop a model All clusters are spherical (i.i.d. Gaussian). All axes have the same distribution and thus variance. All clusters are evenly sized.\n",
    "\n",
    "GMM relaxes that assumption. Each cluster can have a different covariance shape."
   ]
  },
  {
   "cell_type": "markdown",
   "metadata": {},
   "source": [
    " "
   ]
  }
 ],
 "metadata": {
  "anaconda-cloud": {},
  "kernelspec": {
   "display_name": "Python 3",
   "language": "python",
   "name": "python3"
  },
  "language_info": {
   "codemirror_mode": {
    "name": "ipython",
    "version": 3
   },
   "file_extension": ".py",
   "mimetype": "text/x-python",
   "name": "python",
   "nbconvert_exporter": "python",
   "pygments_lexer": "ipython3",
   "version": "3.8.5"
  },
  "toc": {
   "base_numbering": 1,
   "nav_menu": {},
   "number_sections": false,
   "sideBar": false,
   "skip_h1_title": false,
   "title_cell": "Table of Contents",
   "title_sidebar": "Contents",
   "toc_cell": true,
   "toc_position": {},
   "toc_section_display": true,
   "toc_window_display": false
  }
 },
 "nbformat": 4,
 "nbformat_minor": 1
}
