{
 "cells": [
  {
   "cell_type": "markdown",
   "metadata": {
    "slideshow": {
     "slide_type": "skip"
    },
    "toc": true
   },
   "source": [
    "<h1>Table of Contents<span class=\"tocSkip\"></span></h1>\n",
    "<div class=\"toc\"><ul class=\"toc-item\"><li><span><a href=\"#Beyond-GMM---Kernel-Density-Estimation-(KDE)\" data-toc-modified-id=\"Beyond-GMM---Kernel-Density-Estimation-(KDE)-1\">Beyond GMM - Kernel Density Estimation (KDE)</a></span></li><li><span><a href=\"#Learning-Outcomes\" data-toc-modified-id=\"Learning-Outcomes-2\">Learning Outcomes</a></span></li><li><span><a href=\"#Parametric-Models\" data-toc-modified-id=\"Parametric-Models-3\">Parametric Models</a></span></li><li><span><a href=\"#Nonparametric-Models\" data-toc-modified-id=\"Nonparametric-Models-4\">Nonparametric Models</a></span></li><li><span><a href=\"#Two-Types-of-Density-Clustering\" data-toc-modified-id=\"Two-Types-of-Density-Clustering-5\">Two Types of Density Clustering</a></span></li><li><span><a href=\"#Kernel-Density-Estimation-(KDE)\" data-toc-modified-id=\"Kernel-Density-Estimation-(KDE)-6\">Kernel Density Estimation (KDE)</a></span></li><li><span><a href=\"#Kernel-Density-Estimation-(KDE)\" data-toc-modified-id=\"Kernel-Density-Estimation-(KDE)-7\">Kernel Density Estimation (KDE)</a></span></li><li><span><a href=\"#What-is-a-Kernel?\" data-toc-modified-id=\"What-is-a-Kernel?-8\">What is a Kernel?</a></span></li><li><span><a href=\"#Applying-Kernels\" data-toc-modified-id=\"Applying-Kernels-9\">Applying Kernels</a></span></li><li><span><a href=\"#KDE-Kernels\" data-toc-modified-id=\"KDE-Kernels-10\">KDE Kernels</a></span></li><li><span><a href=\"#Gaussian-kernels\" data-toc-modified-id=\"Gaussian-kernels-11\">Gaussian kernels</a></span></li><li><span><a href=\"#KDE--Bandwidth\" data-toc-modified-id=\"KDE--Bandwidth-12\">KDE  Bandwidth</a></span></li><li><span><a href=\"#Check-for-understanding\" data-toc-modified-id=\"Check-for-understanding-13\">Check for understanding</a></span></li><li><span><a href=\"#Kernel-density-estimation-(KDE)-for-nonparametric-density-based-clustering\" data-toc-modified-id=\"Kernel-density-estimation-(KDE)-for-nonparametric-density-based-clustering-14\">Kernel density estimation (KDE) for nonparametric density-based clustering</a></span></li><li><span><a href=\"#Kernel-Density-Estimation-Advantages:\" data-toc-modified-id=\"Kernel-Density-Estimation-Advantages:-15\">Kernel Density Estimation Advantages:</a></span></li><li><span><a href=\"#What-can-you-do-with-KDE-estimates?\" data-toc-modified-id=\"What-can-you-do-with-KDE-estimates?-16\">What can you do with KDE estimates?</a></span></li><li><span><a href=\"#Takeaways\" data-toc-modified-id=\"Takeaways-17\">Takeaways</a></span></li><li><span><a href=\"#Sources-of-Inspiration\" data-toc-modified-id=\"Sources-of-Inspiration-18\">Sources of Inspiration</a></span></li></ul></div>"
   ]
  },
  {
   "cell_type": "markdown",
   "metadata": {
    "slideshow": {
     "slide_type": "slide"
    }
   },
   "source": [
    "<center><h2>Beyond GMM - Kernel Density Estimation (KDE)</h2></center>\n",
    "\n",
    "<center><img src=\"../images/kde_12.png\" width=\"50%\"/></center>"
   ]
  },
  {
   "cell_type": "markdown",
   "metadata": {
    "slideshow": {
     "slide_type": "slide"
    }
   },
   "source": [
    "<center><h2>Learning Outcomes</h2></center>\n",
    "\n",
    "__By the end of this session, you should be able to__:\n",
    "\n",
    "- Explain the differences between parametric and nonparametric models.\n",
    "- Describe how histogram is a parametric model and Kernel Density Estimation (KDE) is a nonparameteric model.\n",
    "- Fit a Kernel Density Estimation (KDE) to data.\n"
   ]
  },
  {
   "cell_type": "markdown",
   "metadata": {
    "slideshow": {
     "slide_type": "slide"
    }
   },
   "source": [
    "<center><h2>Parametric Models</h2></center>\n",
    "\n",
    "Assume a functional form of the data, thus there is a fixed number of parameters to fit during modeling."
   ]
  },
  {
   "cell_type": "markdown",
   "metadata": {
    "slideshow": {
     "slide_type": "slide"
    }
   },
   "source": [
    "<center><h2>Nonparametric Models</h2></center>\n",
    "<br>\n",
    "\n",
    "Do __not__ assume a functional form of the data, thus there are no fixed number of parameters to fit during training.\n",
    "\n"
   ]
  },
  {
   "cell_type": "markdown",
   "metadata": {
    "slideshow": {
     "slide_type": "fragment"
    }
   },
   "source": [
    "<center><h2>Two Types of Density Clustering</h2></center>\n",
    "\n",
    "- Gaussian Mixture Model (GMM) can be used for parametric density clustering\n",
    "- Kernel Density Estimation (KDE) can be used for nonparametric density clustering"
   ]
  },
  {
   "cell_type": "markdown",
   "metadata": {
    "slideshow": {
     "slide_type": "slide"
    }
   },
   "source": [
    "<center><h2>Kernel Density Estimation (KDE)</h2></center>\n",
    "\n",
    "<center><img src=\"../images/kde_99.png\" width=\"70%\"/></center>\n",
    "\n",
    "A non-parametric method to estimate the probability density function of a random variable."
   ]
  },
  {
   "cell_type": "markdown",
   "metadata": {
    "slideshow": {
     "slide_type": "slide"
    }
   },
   "source": [
    "<center><h2>Kernel Density Estimation (KDE)</h2></center>\n",
    "<br>\n",
    "$$ \\hat f(x) = \\frac{1}{nh} \\sum_{i=1}^n K \\left(\\frac{x - x_i}{h}\\right)$$"
   ]
  },
  {
   "cell_type": "markdown",
   "metadata": {
    "slideshow": {
     "slide_type": "fragment"
    }
   },
   "source": [
    "KDE Hyperparameters: \n",
    "\n",
    "1. Kernel (K) - a weighting function applied to each datapoint.\n",
    "1. Bandwidth of kernel  (h) - controls the size of the kernel. "
   ]
  },
  {
   "cell_type": "markdown",
   "metadata": {
    "slideshow": {
     "slide_type": "slide"
    }
   },
   "source": [
    "<center><h2>What is a Kernel?</h2></center>\n",
    "\n",
    "In general, a kernel is a non-negative function that integrates to one and has mean zero.\n",
    "\n",
    "A kernel is filter or weighting function that magnifies different values of the data differently."
   ]
  },
  {
   "cell_type": "markdown",
   "metadata": {
    "slideshow": {
     "slide_type": "fragment"
    }
   },
   "source": [
    "In density estimation, a kernel transforms each data point into a distribution."
   ]
  },
  {
   "cell_type": "code",
   "execution_count": 2,
   "metadata": {
    "slideshow": {
     "slide_type": "skip"
    }
   },
   "outputs": [],
   "source": [
    "reset -fs"
   ]
  },
  {
   "cell_type": "code",
   "execution_count": 3,
   "metadata": {
    "slideshow": {
     "slide_type": "skip"
    }
   },
   "outputs": [],
   "source": [
    "from IPython import display\n",
    "import matplotlib.pyplot as plt\n",
    "import numpy as np\n",
    "\n",
    "palette = \"Dark2\"\n",
    "%matplotlib inline"
   ]
  },
  {
   "cell_type": "code",
   "execution_count": 4,
   "metadata": {
    "slideshow": {
     "slide_type": "slide"
    }
   },
   "outputs": [],
   "source": [
    "from sklearn.neighbors import KernelDensity"
   ]
  },
  {
   "cell_type": "code",
   "execution_count": 5,
   "metadata": {
    "code_folding": [],
    "slideshow": {
     "slide_type": "slide"
    }
   },
   "outputs": [
    {
     "data": {
      "text/plain": [
       "<Figure size 432x288 with 0 Axes>"
      ]
     },
     "metadata": {},
     "output_type": "display_data"
    }
   ],
   "source": [
    "# Create data\n",
    "for value in [4.13, 5.94, 5.45]:\n",
    "        \n",
    "        X = np.array([value])[:, np.newaxis]\n",
    "        # Fit KDE\n",
    "        kde = KernelDensity(kernel='tophat', bandwidth=.5).fit(X)\n",
    "\n",
    "        # Visualization\n",
    "        x_values = np.linspace(3, 7, 1000)[:, np.newaxis]\n",
    "        predicted = np.exp(kde.score_samples(x_values)) \n",
    "        plt.fill(x_values[:, 0], predicted, fc='#002366');\n",
    "        plt.show();\n",
    "        display.display(plt.gcf());\n",
    "        input('Press return to see next figure: ')\n",
    "        display.clear_output(wait=True);\n",
    "        "
   ]
  },
  {
   "cell_type": "markdown",
   "metadata": {
    "slideshow": {
     "slide_type": "slide"
    }
   },
   "source": [
    "<center><h2>Applying Kernels</h2></center>\n",
    "\n",
    "<center><img src=\"../images/passing_kernel.png\" width=\"45%\"/></center>\n",
    "\n",
    "$$ \\hat f(x) = \\frac{1}{nh} \\sum_{i=1}^n K \\left(\\frac{x - x_i}{h}\\right)$$\n",
    "1. For each datapoint, apply kernel to the value ($K \\left(\\frac{x - x_i}{h}\\right)$).\n",
    "1. Sum the result ($\\sum_{i=1}^n$).\n",
    "1. Run a pdf by normalizing ($ \\frac{1}{nh}$)."
   ]
  },
  {
   "cell_type": "markdown",
   "metadata": {
    "slideshow": {
     "slide_type": "slide"
    }
   },
   "source": [
    "<center><h2>KDE Kernels</h2></center>\n",
    "\n",
    "<center><img src=\"../images/sphx_glr_plot_kde_1d_0021.png\" width=\"60%\"/></center>\n",
    "\n",
    "Kernel specifies the shape of the distribution placed at each point.\n",
    "\n",
    "Scikit-Learn's Density Estimation supports one of [six kernels](https://scikit-learn.org/stable/modules/density.html)."
   ]
  },
  {
   "cell_type": "markdown",
   "metadata": {
    "slideshow": {
     "slide_type": "slide"
    }
   },
   "source": [
    "<center><img src=\"../images/3gspf7.jpg\" width=\"65%\"/></center>"
   ]
  },
  {
   "cell_type": "markdown",
   "metadata": {
    "slideshow": {
     "slide_type": "slide"
    }
   },
   "source": [
    "<center><h2>Gaussian kernels</h2></center>\n",
    "\n",
    "<center><img src=\"../images/gauss_kernel.png\" width=\"100%\"/></center>\n",
    "\n",
    "<center>A Gaussian kernel has no parameters to estimate. <br>μ is fixed to the data point and σ is one.</center>"
   ]
  },
  {
   "cell_type": "markdown",
   "metadata": {
    "slideshow": {
     "slide_type": "slide"
    }
   },
   "source": [
    "<center><h2>KDE  Bandwidth</h2></center>\n",
    "\n",
    "<center><img src=\"../images/bandwidth.png\" width=\"100%\"/></center>\n",
    "\n",
    "The bandwidth is a smoothing parameter that controls the spread of the kernel."
   ]
  },
  {
   "cell_type": "markdown",
   "metadata": {
    "slideshow": {
     "slide_type": "slide"
    }
   },
   "source": [
    "<center><h2>Check for understanding</h2></center>\n",
    "\n",
    "Silently think about...\n",
    "\n",
    "How does bandwidth impact Bias and Variance?\n",
    "\n",
    "What happens when you pick a small bandwidth? A large bandwidth?"
   ]
  },
  {
   "cell_type": "markdown",
   "metadata": {
    "slideshow": {
     "slide_type": "slide"
    }
   },
   "source": [
    "<center><img src=\"../images/bandwidth.png\" width=\"75%\"/></center>\n",
    "\n",
    "A small bandwidth results in:\n",
    "\n",
    "- A small, unsmooth distribution.\n",
    "- Low bias since the training dataset is well fit.\n",
    "- High variance since any small changes in datapoints would results in a very different function."
   ]
  },
  {
   "cell_type": "markdown",
   "metadata": {
    "slideshow": {
     "slide_type": "slide"
    }
   },
   "source": [
    "<center><img src=\"../images/bandwidth.png\" width=\"75%\"/></center>\n",
    "\n",
    "\n",
    "A large bandwidth results in:\n",
    "\n",
    "- A large, smooth distribution.\n",
    "- High bias since the training dataset is not well fit.\n",
    "- Low variance since any small changes in datapoints would results in a similar function."
   ]
  },
  {
   "cell_type": "markdown",
   "metadata": {
    "slideshow": {
     "slide_type": "skip"
    }
   },
   "source": [
    "https://scikit-learn.org/stable/modules/density.html: "
   ]
  },
  {
   "cell_type": "code",
   "execution_count": 6,
   "metadata": {
    "slideshow": {
     "slide_type": "skip"
    }
   },
   "outputs": [],
   "source": [
    "reset -fs"
   ]
  },
  {
   "cell_type": "code",
   "execution_count": 7,
   "metadata": {
    "slideshow": {
     "slide_type": "skip"
    }
   },
   "outputs": [],
   "source": [
    "from IPython import display\n",
    "import matplotlib.pyplot as plt\n",
    "import numpy as np\n",
    "\n",
    "palette = \"Dark2\"\n",
    "%matplotlib inline"
   ]
  },
  {
   "cell_type": "code",
   "execution_count": 8,
   "metadata": {
    "slideshow": {
     "slide_type": "slide"
    }
   },
   "outputs": [],
   "source": [
    "from sklearn.neighbors import KernelDensity"
   ]
  },
  {
   "cell_type": "code",
   "execution_count": 9,
   "metadata": {
    "code_folding": [],
    "slideshow": {
     "slide_type": "slide"
    }
   },
   "outputs": [],
   "source": [
    "# Create data\n",
    "\n",
    "# for values in [[5.1], [4.88, 5.66], [4.88, 4.32, 5.66, 6.1]]:\n",
    "#     for bandwidth in (.01, .3, .8): # :\n",
    "         \n",
    "#         X = np.array(values)[:, np.newaxis]\n",
    "\n",
    "#         # Fit KDE\n",
    "#         kde = KernelDensity(kernel='cosine', bandwidth=bandwidth)\n",
    "#         kde.fit(X)\n",
    "\n",
    "#         # Visualization\n",
    "#         x_values = np.linspace(3, 7, 1000)\n",
    "#         predicted = np.exp(kde.score_samples(x_values[:, np.newaxis])) \n",
    "#         plt.fill(x_values, predicted);\n",
    "#         plt.show()\n",
    "#         display.display(plt.gcf())\n",
    "#         input('Press return to see next figure: ')\n",
    "#         display.clear_output(wait=True)"
   ]
  },
  {
   "cell_type": "markdown",
   "metadata": {
    "slideshow": {
     "slide_type": "slide"
    }
   },
   "source": [
    "<center><h2>Kernel density estimation (KDE) for nonparametric density-based clustering</h2></center>\n",
    "\n",
    "Kernel density estimation (KDE) is a nonparametric technique that does not assume any fixed probability model of the clusters.\n",
    "\n",
    "KDE tries to directly infer the underlying probability density at each point in the dataset.\n"
   ]
  },
  {
   "cell_type": "markdown",
   "metadata": {
    "slideshow": {
     "slide_type": "fragment"
    }
   },
   "source": [
    "\n",
    "On the other hand, Gaussian Mixture Model (GMM) are parametric because they assume a mixture of Gaussians."
   ]
  },
  {
   "cell_type": "markdown",
   "metadata": {
    "slideshow": {
     "slide_type": "skip"
    }
   },
   "source": [
    "Source: Data Mining and Analysis by Zaki and Meira"
   ]
  },
  {
   "cell_type": "code",
   "execution_count": 10,
   "metadata": {
    "slideshow": {
     "slide_type": "skip"
    }
   },
   "outputs": [],
   "source": [
    "import pandas as pd\n",
    "import seaborn as sns\n",
    "\n",
    "from warnings import filterwarnings\n",
    "filterwarnings('ignore')"
   ]
  },
  {
   "cell_type": "code",
   "execution_count": 11,
   "metadata": {
    "slideshow": {
     "slide_type": "skip"
    }
   },
   "outputs": [],
   "source": [
    "df = pd.read_csv(\"../data/bimodal_example.csv\")"
   ]
  },
  {
   "cell_type": "code",
   "execution_count": 12,
   "metadata": {
    "slideshow": {
     "slide_type": "slide"
    }
   },
   "outputs": [
    {
     "data": {
      "image/png": "[encoded data removed]",
      "text/plain": [
       "<Figure size 432x288 with 1 Axes>"
      ]
     },
     "metadata": {
      "needs_background": "light"
     },
     "output_type": "display_data"
    }
   ],
   "source": [
    "# Kernel Density Estimation (KDE) with different kernels\n",
    "sns.distplot(df.x);\n",
    "sns.kdeplot(df.x,\n",
    "            kernel='gau',\n",
    "            legend=False,);"
   ]
  },
  {
   "cell_type": "markdown",
   "metadata": {
    "slideshow": {
     "slide_type": "slide"
    }
   },
   "source": [
    "<center><h2>Kernel Density Estimation Advantages:</h2></center>\n",
    "\n",
    "- No need for model specification.\n",
    "- Model any density shape.\n",
    "- Unlike histograms, density estimates are smooth, continuous and differentiable.\n",
    "- Easily generalize to higher dimensions."
   ]
  },
  {
   "cell_type": "markdown",
   "metadata": {
    "slideshow": {
     "slide_type": "skip"
    }
   },
   "source": [
    "- All other parametric/nonparametric density estimation methods, e.g.,\n",
    "histograms, are asymptotically kernel methods."
   ]
  },
  {
   "cell_type": "markdown",
   "metadata": {
    "slideshow": {
     "slide_type": "skip"
    }
   },
   "source": [
    "[Source](https://www.cs.rutgers.edu/~elgammal/classes/cs536/lectures/Clustering.pdf)"
   ]
  },
  {
   "cell_type": "markdown",
   "metadata": {
    "slideshow": {
     "slide_type": "slide"
    }
   },
   "source": [
    "<center><h2>What can you do with KDE estimates?</h2></center>\n",
    "\n",
    "- [Find Waldo](https://www.boredpanda.com/easy-strategy-for-finding-waldo-dr-randal-s-olson/)\n",
    "\n",
    "- Anomaly detection - Given a density estimate , we can say whether it is very unlikely.\n",
    "\n",
    "- Classification - If we estimate the density for each class, we can simply\n",
    "plug this estimate Naive Bayes’ classifier.\n",
    "\n",
    "- Clustering - Given a point, climb the density until you reach a local maximum."
   ]
  },
  {
   "cell_type": "markdown",
   "metadata": {
    "slideshow": {
     "slide_type": "skip"
    }
   },
   "source": [
    "[Source](https://mdav.ece.gatech.edu/ece-6254-spring2017/notes/19-KDE-k-means.pdf)"
   ]
  },
  {
   "cell_type": "markdown",
   "metadata": {
    "slideshow": {
     "slide_type": "slide"
    }
   },
   "source": [
    "<center><h2>Takeaways</h2></center>\n",
    "\n",
    "- Parametric models assume a functional form to the data, thus require a fixed number of parameters.\n",
    "- Nonparametric models do __not__ assume a functional form to the data, thus the number of parameters are not fixed.\n",
    "- Kernel Density Estimation (KDE) estimates a function based on each data observation without assuming a functional form  of the data.\n",
    "- KDE has two hyperparameters:\n",
    "     1. Kernel - The filter at each datapoint.\n",
    "     1. Bandwidth - A width of the filter.\n",
    "- KDE can create density-based clusters without assuming a functional form of the data."
   ]
  },
  {
   "cell_type": "markdown",
   "metadata": {},
   "source": [
    "<center><h2>Sources of Inspiration</h2></center>\n",
    "\n",
    "- https://stackabuse.com/kernel-density-estimation-in-python-using-scikit-learn/"
   ]
  },
  {
   "cell_type": "markdown",
   "metadata": {
    "slideshow": {
     "slide_type": "slide"
    }
   },
   "source": [
    " <br>\n",
    "<br> \n",
    "<br>\n",
    "\n",
    "----"
   ]
  }
 ],
 "metadata": {
  "anaconda-cloud": {},
  "kernelspec": {
   "display_name": "Python 3",
   "language": "python",
   "name": "python3"
  },
  "language_info": {
   "codemirror_mode": {
    "name": "ipython",
    "version": 3
   },
   "file_extension": ".py",
   "mimetype": "text/x-python",
   "name": "python",
   "nbconvert_exporter": "python",
   "pygments_lexer": "ipython3",
   "version": "3.8.5"
  },
  "toc": {
   "base_numbering": 1,
   "nav_menu": {},
   "number_sections": false,
   "sideBar": false,
   "skip_h1_title": false,
   "title_cell": "Table of Contents",
   "title_sidebar": "Contents",
   "toc_cell": true,
   "toc_position": {},
   "toc_section_display": true,
   "toc_window_display": false
  }
 },
 "nbformat": 4,
 "nbformat_minor": 1
}
