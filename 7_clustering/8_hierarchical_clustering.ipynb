{
 "cells": [
  {
   "cell_type": "markdown",
   "metadata": {
    "toc": true
   },
   "source": [
    "<h1>Table of Contents<span class=\"tocSkip\"></span></h1>\n",
    "<div class=\"toc\"><ul class=\"toc-item\"><li><span><a href=\"#Hierarchical-Clustering\" data-toc-modified-id=\"Hierarchical-Clustering-1\">Hierarchical Clustering</a></span></li><li><span><a href=\"#By-The-End-Of-This-Session-You-Should-Be-Able-To:\" data-toc-modified-id=\"By-The-End-Of-This-Session-You-Should-Be-Able-To:-2\">By The End Of This Session You Should Be Able To:</a></span></li><li><span><a href=\"#How-should-we-group-these-letters?\" data-toc-modified-id=\"How-should-we-group-these-letters?-3\">How should we group these letters?</a></span></li><li><span><a href=\"#Hierarchical-Clustering\" data-toc-modified-id=\"Hierarchical-Clustering-4\">Hierarchical Clustering</a></span></li><li><span><a href=\"#Hierarchical-Clustering\" data-toc-modified-id=\"Hierarchical-Clustering-5\">Hierarchical Clustering</a></span></li><li><span><a href=\"#Hierarchical-Clustering-Algoritm\" data-toc-modified-id=\"Hierarchical-Clustering-Algoritm-6\">Hierarchical Clustering Algoritm</a></span></li><li><span><a href=\"#How-should-we-define-distance-between-clusters?\" data-toc-modified-id=\"How-should-we-define-distance-between-clusters?-7\">How should we define distance between clusters?</a></span></li><li><span><a href=\"#Different-Linkage-choices-will-result-in-different-Hierarchical-Clustering\" data-toc-modified-id=\"Different-Linkage-choices-will-result-in-different-Hierarchical-Clustering-8\">Different Linkage choices will result in different Hierarchical Clustering</a></span></li><li><span><a href=\"#Worked-Example-of-Hierarchical-Clustering\" data-toc-modified-id=\"Worked-Example-of-Hierarchical-Clustering-9\">Worked Example of Hierarchical Clustering</a></span></li><li><span><a href=\"#Let's-Cluster-Whiskeys\" data-toc-modified-id=\"Let's-Cluster-Whiskeys-10\">Let's Cluster Whiskeys</a></span></li><li><span><a href=\"#2-methods-of-Hierarchical-Clustering\" data-toc-modified-id=\"2-methods-of-Hierarchical-Clustering-11\">2 methods of Hierarchical Clustering</a></span></li><li><span><a href=\"#Takeaways\" data-toc-modified-id=\"Takeaways-12\">Takeaways</a></span></li><li><span><a href=\"#-Bonus-Material\" data-toc-modified-id=\"-Bonus-Material-13\"> Bonus Material</a></span></li><li><span><a href=\"#Using-Hierarchical-Clustering-understand-Multi-collinearity-in-Feature-Importance\" data-toc-modified-id=\"Using-Hierarchical-Clustering-understand-Multi-collinearity-in-Feature-Importance-14\">Using Hierarchical Clustering understand Multi-collinearity in Feature Importance</a></span></li><li><span><a href=\"#How-should-we-evaluate-different-linkages?\" data-toc-modified-id=\"How-should-we-evaluate-different-linkages?-15\">How should we evaluate different linkages?</a></span></li></ul></div>"
   ]
  },
  {
   "cell_type": "markdown",
   "metadata": {
    "slideshow": {
     "slide_type": "slide"
    }
   },
   "source": [
    "<center><h2>Hierarchical Clustering</h2></center>\n",
    "<br>\n",
    "<br>\n",
    "\n",
    "<center><img src=\"https://en.proft.me/media/science/r_hc_tree.png\" width=\"55%\"/></center>"
   ]
  },
  {
   "cell_type": "markdown",
   "metadata": {
    "slideshow": {
     "slide_type": "slide"
    }
   },
   "source": [
    "By The End Of This Session You Should Be Able To:\n",
    "----\n",
    "\n",
    "- Define Hierarchical Clustering in your words\n",
    "- Plot Hierarchical Clustering with a dendrogram\n",
    "- Explain the difference between Agglomerative and Divisive Hierarchical Clustering"
   ]
  },
  {
   "cell_type": "markdown",
   "metadata": {
    "slideshow": {
     "slide_type": "slide"
    }
   },
   "source": [
    "<center><h2>How should we group these letters?</h2></center>\n",
    "<br><br>\n",
    "<center><img src=\"../images/letters-ungrouped.png\" width=\"75%\"/></center>"
   ]
  },
  {
   "cell_type": "markdown",
   "metadata": {
    "slideshow": {
     "slide_type": "slide"
    }
   },
   "source": [
    "<center><h2>Hierarchical Clustering</h2></center>\n",
    "<br>\n",
    "<center><table><tr><td><img src='../images/letters-grouped.png' width=\"110%\"></td><td><img src='../images/letters-dendrogram.png' width=\"100%\"></td></tr></table></center>\n",
    "<center><img src=\"../images/Hierarchical_groups.png\" width=\"75%\"/></center>\n",
    "\n",
    "\n"
   ]
  },
  {
   "cell_type": "markdown",
   "metadata": {
    "slideshow": {
     "slide_type": "slide"
    }
   },
   "source": [
    "Hierarchical Clustering\n",
    "----\n",
    "\n",
    "Clustering data points into larger and larger groups.\n",
    "\n",
    "Group data points as leaves on a tree. "
   ]
  },
  {
   "cell_type": "markdown",
   "metadata": {
    "slideshow": {
     "slide_type": "slide"
    }
   },
   "source": [
    "Hierarchical Clustering Algoritm\n",
    "-----\n",
    "\n",
    "\n",
    "1. Assign each point to its own cluster\n",
    "1. Repeat:\n",
    "    1. Compute distances between clusters\n",
    "    1. Merge closest clusters\n",
    "1. Until all \"distant\" clusters are merged"
   ]
  },
  {
   "cell_type": "markdown",
   "metadata": {
    "slideshow": {
     "slide_type": "fragment"
    }
   },
   "source": [
    "We do not specify the number of clusters beforehand. \n",
    "\n",
    "We build up the clusters __agglomeratively__, then we can choose whatever level of clustering we want afterward."
   ]
  },
  {
   "cell_type": "markdown",
   "metadata": {
    "slideshow": {
     "slide_type": "slide"
    }
   },
   "source": [
    "How should we define distance between clusters?\n",
    "------\n",
    "\n",
    "It's easy to measure the distance between two points, but between clusters it's not as easy. \n",
    "\n",
    "__Linkage__: A distance metric between clusters\n"
   ]
  },
  {
   "cell_type": "markdown",
   "metadata": {
    "slideshow": {
     "slide_type": "slide"
    }
   },
   "source": [
    " <center><img src=\"../images/linkages.png\" width=\"90%\"/></center>"
   ]
  },
  {
   "cell_type": "markdown",
   "metadata": {
    "slideshow": {
     "slide_type": "slide"
    }
   },
   "source": [
    "Different Linkage choices will result in different Hierarchical Clustering\n",
    "------\n",
    "<br>\n",
    "<center><img src=\"../images/linkage_dendrograms.png\" width=\"85%\"/></center>\n",
    "\n"
   ]
  },
  {
   "cell_type": "markdown",
   "metadata": {
    "slideshow": {
     "slide_type": "slide"
    }
   },
   "source": [
    "<center><h2>Worked Example of Hierarchical Clustering</h2></center>\n",
    "<br>\n",
    "<center><img src=\"../images/example_hierachical.png\" width=\"75%\"/></center>\n",
    "\n",
    "1. Start with each data object separate\n",
    "1. Make clusters\n",
    "    1. Find smallest distance between objects\n",
    "    1. Make cluster\n",
    "    1. Each cluster becomes a data object\n",
    "1. Stop when all objects are in single cluster\n",
    "1. Threshold to number of clusters"
   ]
  },
  {
   "cell_type": "markdown",
   "metadata": {
    "slideshow": {
     "slide_type": "slide"
    }
   },
   "source": [
    "<center><h2>Let's Cluster Whiskeys</h2></center>\n",
    "\n",
    "<center><img src=\"../images/whiskey.jpg\" width=\"75%\"/></center>"
   ]
  },
  {
   "cell_type": "code",
   "execution_count": 1,
   "metadata": {
    "slideshow": {
     "slide_type": "skip"
    }
   },
   "outputs": [],
   "source": [
    "reset -fs"
   ]
  },
  {
   "cell_type": "code",
   "execution_count": 2,
   "metadata": {
    "slideshow": {
     "slide_type": "slide"
    }
   },
   "outputs": [
    {
     "data": {
      "text/html": [
       "<div>\n",
       "<style scoped>\n",
       "    .dataframe tbody tr th:only-of-type {\n",
       "        vertical-align: middle;\n",
       "    }\n",
       "\n",
       "    .dataframe tbody tr th {\n",
       "        vertical-align: top;\n",
       "    }\n",
       "\n",
       "    .dataframe thead th {\n",
       "        text-align: right;\n",
       "    }\n",
       "</style>\n",
       "<table border=\"1\" class=\"dataframe\">\n",
       "  <thead>\n",
       "    <tr style=\"text-align: right;\">\n",
       "      <th></th>\n",
       "      <th>RowID</th>\n",
       "      <th>Distillery</th>\n",
       "      <th>Body</th>\n",
       "      <th>Sweetness</th>\n",
       "      <th>Smoky</th>\n",
       "      <th>Medicinal</th>\n",
       "      <th>Tobacco</th>\n",
       "      <th>Honey</th>\n",
       "      <th>Spicy</th>\n",
       "      <th>Winey</th>\n",
       "      <th>Nutty</th>\n",
       "      <th>Malty</th>\n",
       "      <th>Fruity</th>\n",
       "      <th>Floral</th>\n",
       "      <th>Postcode</th>\n",
       "      <th>Latitude</th>\n",
       "      <th>Longitude</th>\n",
       "    </tr>\n",
       "  </thead>\n",
       "  <tbody>\n",
       "    <tr>\n",
       "      <th>85</th>\n",
       "      <td>86</td>\n",
       "      <td>Tullibardine</td>\n",
       "      <td>2</td>\n",
       "      <td>3</td>\n",
       "      <td>0</td>\n",
       "      <td>0</td>\n",
       "      <td>1</td>\n",
       "      <td>0</td>\n",
       "      <td>2</td>\n",
       "      <td>1</td>\n",
       "      <td>1</td>\n",
       "      <td>2</td>\n",
       "      <td>2</td>\n",
       "      <td>1</td>\n",
       "      <td>PH4 1QG</td>\n",
       "      <td>289690</td>\n",
       "      <td>708850</td>\n",
       "    </tr>\n",
       "  </tbody>\n",
       "</table>\n",
       "</div>"
      ],
      "text/plain": [
       "    RowID    Distillery  Body  Sweetness  Smoky  Medicinal  Tobacco  Honey  \\\n",
       "85     86  Tullibardine     2          3      0          0        1      0   \n",
       "\n",
       "    Spicy  Winey  Nutty  Malty  Fruity  Floral  Postcode  Latitude  Longitude  \n",
       "85      2      1      1      2       2       1   PH4 1QG    289690     708850  "
      ]
     },
     "execution_count": 2,
     "metadata": {},
     "output_type": "execute_result"
    }
   ],
   "source": [
    "import pandas as pd\n",
    "\n",
    "df = pd.read_csv('https://raw.githubusercontent.com/sweis/whiskies/master/whiskies.txt')\n",
    "df.tail(n=1)"
   ]
  },
  {
   "cell_type": "code",
   "execution_count": 3,
   "metadata": {
    "slideshow": {
     "slide_type": "fragment"
    }
   },
   "outputs": [],
   "source": [
    "# Drop columns to make the problem simpler\n",
    "columns_to_drop = ['RowID', 'Postcode', 'Latitude', 'Longitude']\n",
    "df.drop(columns_to_drop, axis=1, inplace=True)"
   ]
  },
  {
   "cell_type": "code",
   "execution_count": 4,
   "metadata": {
    "slideshow": {
     "slide_type": "fragment"
    }
   },
   "outputs": [],
   "source": [
    "# Let's make the index something nice, so we can use it later as a label\n",
    "df.set_index('Distillery', inplace=True) "
   ]
  },
  {
   "cell_type": "code",
   "execution_count": 20,
   "metadata": {},
   "outputs": [],
   "source": [
    "# Use scipy implementation to make it easier to visualize\n",
    "from scipy import cluster, spatial\n",
    "\n",
    "from warnings import filterwarnings\n",
    "filterwarnings('ignore')\n",
    "\n",
    "import matplotlib.pyplot as plt\n",
    "palette = \"Dark2\"\n",
    "%matplotlib inline"
   ]
  },
  {
   "cell_type": "code",
   "execution_count": 21,
   "metadata": {
    "slideshow": {
     "slide_type": "slide"
    }
   },
   "outputs": [],
   "source": [
    "def make_dendrogram(dataframe, linkage_method, metric, color_threshold=None):\n",
    "    distxy    = spatial.distance.squareform(spatial.distance.pdist(dataframe.values, metric=metric))\n",
    "    h_cluster = cluster.hierarchy.linkage(distxy, linkage_method)\n",
    "    plt.figure(figsize=(25, 10));plt.title('Hierarchical Clustering Dendrogram'); plt.ylabel('distance') # plt.xlabel('sample index')\n",
    "    scipy.cluster.hierarchy.dendrogram(h_cluster,\n",
    "                                       leaf_rotation=90.,   # Rotates the x axis labels\n",
    "                                       leaf_font_size=12.,  # Font size for the x axis labels\n",
    "                                       labels=dataframe.index,\n",
    "                                       color_threshold=color_threshold)"
   ]
  },
  {
   "cell_type": "code",
   "execution_count": 22,
   "metadata": {
    "slideshow": {
     "slide_type": "slide"
    }
   },
   "outputs": [
    {
     "data": {
      "image/png": "[encoded data removed]",
      "text/plain": [
       "<Figure size 1800x720 with 1 Axes>"
      ]
     },
     "metadata": {
      "needs_background": "light"
     },
     "output_type": "display_data"
    }
   ],
   "source": [
    "# Student Questions\n",
    "# Which linkage should we use?\n",
    "# Which distance metric do we use?\n",
    "make_dendrogram(df, \n",
    "                linkage_method='average', \n",
    "                metric='euclidean')"
   ]
  },
  {
   "cell_type": "markdown",
   "metadata": {
    "slideshow": {
     "slide_type": "slide"
    }
   },
   "source": [
    "<center><h2>2 methods of Hierarchical Clustering</h2></center>\n",
    "\n",
    "1.  Agglomerative / \"bottom up\" \n",
    "\n",
    "    Each observation starts in its own cluster, and pairs of clusters are merged as one moves up the hierarchy.\n",
    "<br><br>\n",
    "2. Divisive / \"top down\"\n",
    "\n",
    "   All observations start in one cluster, and splits are performed recursively as one moves down the hierarchy."
   ]
  },
  {
   "cell_type": "markdown",
   "metadata": {
    "slideshow": {
     "slide_type": "slide"
    }
   },
   "source": [
    "<center><img src=\"https://www.saedsayad.com/../images/Clustering_h1.png\" width=\"100%\"/></center>\n"
   ]
  },
  {
   "cell_type": "markdown",
   "metadata": {
    "slideshow": {
     "slide_type": "slide"
    }
   },
   "source": [
    "<center><h2>Takeaways</h2></center>\n",
    "\n",
    "1. Clustering is grouping similar data together.\n",
    "1. Often times, creating a hierarchy helps group data.\n",
    "1. Build groups bottom-up (agglomerative)\n",
    "1. Build groups top-down (Divisive)"
   ]
  },
  {
   "cell_type": "markdown",
   "metadata": {
    "slideshow": {
     "slide_type": "slide"
    }
   },
   "source": [
    " "
   ]
  },
  {
   "cell_type": "markdown",
   "metadata": {
    "slideshow": {
     "slide_type": "slide"
    }
   },
   "source": [
    " Bonus Material\n",
    "-----"
   ]
  },
  {
   "cell_type": "markdown",
   "metadata": {},
   "source": [
    "<center><h2>Using Hierarchical Clustering understand Multi-collinearity in Feature Importance</h2></center>\n",
    "\n",
    "https://scikit-learn.org/stable/auto_examples/inspection/plot_permutation_importance_multicollinear.html"
   ]
  },
  {
   "cell_type": "markdown",
   "metadata": {
    "slideshow": {
     "slide_type": "slide"
    }
   },
   "source": [
    "How should we evaluate different linkages?\n",
    "-----\n",
    "\n",
    "Same as other clustering (e.g., minimal increase sum of squares or minimal increase of variance )\n",
    "\n",
    "Source: https://stats.stackexchange.com/questions/195446/choosing-the-right-linkage-method-for-hierarchical-clustering"
   ]
  },
  {
   "cell_type": "markdown",
   "metadata": {
    "slideshow": {
     "slide_type": "slide"
    }
   },
   "source": [
    " "
   ]
  }
 ],
 "metadata": {
  "kernelspec": {
   "display_name": "Python 3",
   "language": "python",
   "name": "python3"
  },
  "language_info": {
   "codemirror_mode": {
    "name": "ipython",
    "version": 3
   },
   "file_extension": ".py",
   "mimetype": "text/x-python",
   "name": "python",
   "nbconvert_exporter": "python",
   "pygments_lexer": "ipython3",
   "version": "3.8.5"
  },
  "toc": {
   "base_numbering": 1,
   "nav_menu": {},
   "number_sections": false,
   "sideBar": false,
   "skip_h1_title": false,
   "title_cell": "Table of Contents",
   "title_sidebar": "Contents",
   "toc_cell": true,
   "toc_position": {},
   "toc_section_display": true,
   "toc_window_display": false
  }
 },
 "nbformat": 4,
 "nbformat_minor": 2
}
