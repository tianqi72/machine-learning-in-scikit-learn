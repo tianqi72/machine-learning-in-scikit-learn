{
 "cells": [
  {
   "cell_type": "markdown",
   "metadata": {
    "toc": true
   },
   "source": [
    "<h1>Table of Contents<span class=\"tocSkip\"></span></h1>\n",
    "<div class=\"toc\"><ul class=\"toc-item\"><li><span><a href=\"#k-means-Clustering\" data-toc-modified-id=\"k-means-Clustering-1\">k-means Clustering</a></span></li><li><span><a href=\"#By-The-End-Of-This-Session-You-Should-Be-Able-To:\" data-toc-modified-id=\"By-The-End-Of-This-Session-You-Should-Be-Able-To:-2\">By The End Of This Session You Should Be Able To:</a></span></li><li><span><a href=\"#k-means-Overview\" data-toc-modified-id=\"k-means-Overview-3\">k-means Overview</a></span></li><li><span><a href=\"#k-means-Loss-Function\" data-toc-modified-id=\"k-means-Loss-Function-4\">k-means Loss Function</a></span></li><li><span><a href=\"#k-means-Algorithm-Steps\" data-toc-modified-id=\"k-means-Algorithm-Steps-5\">k-means Algorithm Steps</a></span></li><li><span><a href=\"#k-means-in-scikit-learn\" data-toc-modified-id=\"k-means-in-scikit-learn-6\">k-means in scikit-learn</a></span></li><li><span><a href=\"#Methods-to-choose-number-of-clusters\" data-toc-modified-id=\"Methods-to-choose-number-of-clusters-7\">Methods to choose number of clusters</a></span></li><li><span><a href=\"#Within-Cluster-Sum-of-Squares-(WCSS)\" data-toc-modified-id=\"Within-Cluster-Sum-of-Squares-(WCSS)-8\">Within-Cluster Sum of Squares (WCSS)</a></span></li><li><span><a href=\"#The-Elbow-Method\" data-toc-modified-id=\"The-Elbow-Method-9\">The Elbow Method</a></span></li><li><span><a href=\"#Silhouette-Score\" data-toc-modified-id=\"Silhouette-Score-10\">Silhouette Score</a></span></li><li><span><a href=\"#What-are-the-advantages-of-k-means?\" data-toc-modified-id=\"What-are-the-advantages-of-k-means?-11\">What are the advantages of k-means?</a></span></li><li><span><a href=\"#What-are-the-disadvantage-of-k-means?\" data-toc-modified-id=\"What-are-the-disadvantage-of-k-means?-12\">What are the disadvantage of k-means?</a></span></li><li><span><a href=\"#Check-for-understanding\" data-toc-modified-id=\"Check-for-understanding-13\">Check for understanding</a></span></li><li><span><a href=\"#Check-for-understanding\" data-toc-modified-id=\"Check-for-understanding-14\">Check for understanding</a></span></li><li><span><a href=\"#Takeaways\" data-toc-modified-id=\"Takeaways-15\">Takeaways</a></span></li><li><span><a href=\"#Sources-of-Inspiration\" data-toc-modified-id=\"Sources-of-Inspiration-16\">Sources of Inspiration</a></span></li><li><span><a href=\"#Bonus-Material\" data-toc-modified-id=\"Bonus-Material-17\">Bonus Material</a></span></li><li><span><a href=\"#k-means-Optimization-Function\" data-toc-modified-id=\"k-means-Optimization-Function-18\">k-means Optimization Function</a></span></li><li><span><a href=\"#Centroid-vs-Medoids\" data-toc-modified-id=\"Centroid-vs-Medoids-19\">Centroid vs Medoids</a></span></li><li><span><a href=\"#What-to-Do-When-K-Means-Clustering-Fails\" data-toc-modified-id=\"What-to-Do-When-K-Means-Clustering-Fails-20\">What to Do When K-Means Clustering Fails</a></span></li><li><span><a href=\"#Solutions-to-Initial-Centroids-Problem\" data-toc-modified-id=\"Solutions-to-Initial-Centroids-Problem-21\">Solutions to Initial Centroids Problem</a></span></li><li><span><a href=\"#Post-processing-helps-k-means\" data-toc-modified-id=\"Post-processing-helps-k-means-22\">Post-processing helps k-means</a></span></li><li><span><a href=\"#What-is-the-relationship-between-k-nn-and-k-means?\" data-toc-modified-id=\"What-is-the-relationship-between-k-nn-and-k-means?-23\">What is the relationship between k-nn and k-means?</a></span></li><li><span><a href=\"#K-means\" data-toc-modified-id=\"K-means-24\">K-means</a></span></li><li><span><a href=\"#k-means++\" data-toc-modified-id=\"k-means++-25\">k-means++</a></span></li></ul></div>"
   ]
  },
  {
   "cell_type": "markdown",
   "metadata": {
    "slideshow": {
     "slide_type": "slide"
    }
   },
   "source": [
    "<center><h2>k-means Clustering</h2></center>\n",
    "<br>\n",
    "<center><img src=\"https://uploads.toptal.io/blog/image/92521/toptal-blog-image-1463639098844-eb9ad14c7f665e556b2cb66a65b6c257.jpg\" width=\"55%\"/></center>"
   ]
  },
  {
   "cell_type": "markdown",
   "metadata": {
    "slideshow": {
     "slide_type": "slide"
    }
   },
   "source": [
    "By The End Of This Session You Should Be Able To:\n",
    "----\n",
    "\n",
    "- List the steps of k-means clustering algorithm\n",
    "- Describe how to choose the best k in k-means\n",
    "- List advantages and disadvantages of k-means"
   ]
  },
  {
   "cell_type": "markdown",
   "metadata": {
    "slideshow": {
     "slide_type": "slide"
    }
   },
   "source": [
    "k-means Overview\n",
    "-------\n",
    "\n",
    "The k-means algorithm involves repeatedly assigning points to clusters and then finding new clusters based on those points.\n",
    "\n",
    "k-means Loss Function\n",
    "-------\n",
    "\n",
    "K-means tries to separate samples in groups of equal variance. It does this by minimizing a criterion known as the inertia or within-cluster sum-of-squares \n",
    "\n",
    "$$ \\sum_{i=0}^{n}\\min_{\\mu_j \\in C}(||x_i - \\mu_j||^2)$$"
   ]
  },
  {
   "cell_type": "markdown",
   "metadata": {
    "slideshow": {
     "slide_type": "slide"
    }
   },
   "source": [
    "k-means Algorithm Steps\n",
    "-------\n",
    "1. Start:\n",
    "    1. Choose a number of clusters k\n",
    "    1. Randomly assign each point to a cluster\n",
    "1. Repeat:\n",
    "    1. Update: For each of k clusters, compute cluster *centroid* by taking\n",
    "mean vector of points in the cluster\n",
    "    1. Assign: Assign each data point to cluster for which centroid is closest\n",
    "1. Stop when clusters stop changing or run out of computational budget"
   ]
  },
  {
   "cell_type": "markdown",
   "metadata": {
    "slideshow": {
     "slide_type": "slide"
    }
   },
   "source": [
    "<center><img src=\"../images/kmeans_step.png\" width=\"60%\"/></center>"
   ]
  },
  {
   "cell_type": "markdown",
   "metadata": {
    "slideshow": {
     "slide_type": "slide"
    }
   },
   "source": [
    "k-means in scikit-learn\n",
    "----"
   ]
  },
  {
   "cell_type": "code",
   "execution_count": 2,
   "metadata": {
    "slideshow": {
     "slide_type": "skip"
    }
   },
   "outputs": [],
   "source": [
    "reset -fs"
   ]
  },
  {
   "cell_type": "code",
   "execution_count": 3,
   "metadata": {
    "slideshow": {
     "slide_type": "skip"
    }
   },
   "outputs": [],
   "source": [
    "import numpy as np"
   ]
  },
  {
   "cell_type": "code",
   "execution_count": 4,
   "metadata": {
    "slideshow": {
     "slide_type": "skip"
    }
   },
   "outputs": [
    {
     "data": {
      "text/plain": [
       "array([[-2.76250926, -2.76172401],\n",
       "       [-2.16912174, -2.24039764],\n",
       "       [-2.55025615, -3.15886029],\n",
       "       ...,\n",
       "       [-1.37885223, -1.03674544],\n",
       "       [-2.13757758, -0.13285992],\n",
       "       [-0.49470988,  0.07855605]])"
      ]
     },
     "execution_count": 4,
     "metadata": {},
     "output_type": "execute_result"
    }
   ],
   "source": [
    "# Load data\n",
    "X = np.load(\"../data/bivariate_unlabeled_data.npy\")\n",
    "# The data is unlabeled bivariate float data\n",
    "X"
   ]
  },
  {
   "cell_type": "code",
   "execution_count": 5,
   "metadata": {},
   "outputs": [],
   "source": [
    "import matplotlib.pyplot as plt\n",
    "palette = \"Dark2\"\n",
    "%matplotlib inline"
   ]
  },
  {
   "cell_type": "code",
   "execution_count": 6,
   "metadata": {
    "slideshow": {
     "slide_type": "fragment"
    }
   },
   "outputs": [
    {
     "data": {
      "image/png": "[encoded data removed]",
      "text/plain": [
       "<Figure size 432x288 with 1 Axes>"
      ]
     },
     "metadata": {
      "needs_background": "light"
     },
     "output_type": "display_data"
    }
   ],
   "source": [
    "plt.scatter(X[:,0], X[:,1], linewidths=0, color='k')\n",
    "plt.axis('off');plt.axis('equal');"
   ]
  },
  {
   "cell_type": "markdown",
   "metadata": {},
   "source": [
    "__Student Discussion__\n",
    "\n",
    "How will k-means cluster this data?\n",
    "\n",
    "__Student Poll__\n",
    "\n",
    "What will be the optimal number of clusters according to k-means?"
   ]
  },
  {
   "cell_type": "code",
   "execution_count": 12,
   "metadata": {
    "slideshow": {
     "slide_type": "slide"
    }
   },
   "outputs": [
    {
     "data": {
      "image/png": "[encoded data removed]",
      "text/plain": [
       "<Figure size 432x288 with 1 Axes>"
      ]
     },
     "metadata": {
      "needs_background": "light"
     },
     "output_type": "display_data"
    }
   ],
   "source": [
    "# Let's fit k-means\n",
    "from sklearn.cluster       import KMeans \n",
    "from sklearn.pipeline      import Pipeline\n",
    "from sklearn.preprocessing import StandardScaler\n",
    "\n",
    "# Fit k-means in scikit-learn\n",
    "k_means = Pipeline([('standard', StandardScaler()),\n",
    "                    ('cluster',  KMeans(n_clusters=2)), # Try 1-6; 6 will show variance\n",
    "                   ])\n",
    "y = k_means.fit_predict(X)\n",
    "\n",
    "plt.scatter(X[:,0], X[:,1], c=y)\n",
    "plt.axis('off');plt.axis('equal');"
   ]
  },
  {
   "cell_type": "markdown",
   "metadata": {
    "slideshow": {
     "slide_type": "slide"
    }
   },
   "source": [
    "Methods to choose number of clusters\n",
    "-----\n",
    "\n",
    "- Within-cluster sum of squares (WCSS)\n",
    "- The Elbow Method \n",
    "- Silhouette Score\n",
    "- [Others in scikit-learn](https://scikit-learn.org/stable/modules/classes.html#clustering-metrics)"
   ]
  },
  {
   "cell_type": "markdown",
   "metadata": {
    "slideshow": {
     "slide_type": "slide"
    }
   },
   "source": [
    "Within-Cluster Sum of Squares (WCSS)\n",
    "-----\n",
    "\n",
    "Measures the goodness of a clustering\n",
    "\n",
    "$$W(C) = \\frac{1}{K} \\sum_{k=1}^{K} \\left( \\sum_{x_i, x_j \\in C_k} || x_i - x_j ||^2 \\right)$$\n",
    "\n",
    "where $K$ is the number of clusters, $C_k$ is the set of all points with label $k$, and $x_i$ is the position of point $i$. "
   ]
  },
  {
   "cell_type": "markdown",
   "metadata": {
    "slideshow": {
     "slide_type": "fragment"
    }
   },
   "source": [
    "__The problem with wcss__\n",
    "\n",
    "WCSS will always go down does as the number of clusters go up."
   ]
  },
  {
   "cell_type": "markdown",
   "metadata": {
    "slideshow": {
     "slide_type": "slide"
    }
   },
   "source": [
    "The Elbow Method\n",
    "------\n",
    "\n",
    "Plot the within-cluster sum of squares and try to see what looks like an \"elbow\"."
   ]
  },
  {
   "cell_type": "code",
   "execution_count": 8,
   "metadata": {
    "slideshow": {
     "slide_type": "slide"
    }
   },
   "outputs": [],
   "source": [
    "sse = {}\n",
    "for k in range(1, 10):\n",
    "    k_means = Pipeline([('standard', StandardScaler()),\n",
    "                        ('cluster',  KMeans(n_clusters=k, max_iter=1_000)), \n",
    "                       ])\n",
    "    kmeans = k_means.fit(X)\n",
    "    sse[k] = k_means['cluster'].inertia_ # Inertia: Sum of distances of samples to their closest cluster center"
   ]
  },
  {
   "cell_type": "code",
   "execution_count": 9,
   "metadata": {
    "slideshow": {
     "slide_type": "slide"
    }
   },
   "outputs": [
    {
     "data": {
      "image/png": "[encoded data removed]",
      "text/plain": [
       "<Figure size 432x288 with 1 Axes>"
      ]
     },
     "metadata": {
      "needs_background": "light"
     },
     "output_type": "display_data"
    }
   ],
   "source": [
    "plt.plot(list(sse.keys()), list(sse.values()))\n",
    "plt.title('Bivariate unlabeled data');\n",
    "plt.ylabel(\"SSE\"); \n",
    "plt.xlabel(\"Number of cluster\"); "
   ]
  },
  {
   "cell_type": "markdown",
   "metadata": {
    "slideshow": {
     "slide_type": "skip"
    }
   },
   "source": [
    "Source: https://stackoverflow.com/questions/19197715/scikit-learn-k-means-elbow-criterion"
   ]
  },
  {
   "cell_type": "markdown",
   "metadata": {
    "slideshow": {
     "slide_type": "slide"
    }
   },
   "source": [
    "Silhouette Score\n",
    "-----\n",
    "\n",
    "A higher Silhouette Score score is proportional to a model with better-defined clusters.\n",
    "\n",
    "$$\\text{silhouette}(x_i) = \\frac{b_i - a_i}{max(a_i, b_i)} $$\n",
    "\n",
    "For each point $x_i$:\n",
    "\n",
    "* $a_i$ is the mean distance between $x_i$ and all other points in the same cluster\n",
    "* $b_i$ is the mean distance between $x_i$ and all points in the *nearest* cluster"
   ]
  },
  {
   "cell_type": "code",
   "execution_count": 10,
   "metadata": {
    "slideshow": {
     "slide_type": "slide"
    }
   },
   "outputs": [
    {
     "name": "stdout",
     "output_type": "stream",
     "text": [
      "For # clusters = 2, the Silhouette Coefficient is 0.5782\n",
      "For # clusters = 3, the Silhouette Coefficient is 0.5379\n",
      "For # clusters = 4, the Silhouette Coefficient is 0.5403\n",
      "For # clusters = 5, the Silhouette Coefficient is 0.5674\n",
      "For # clusters = 6, the Silhouette Coefficient is 0.5172\n",
      "For # clusters = 7, the Silhouette Coefficient is 0.5256\n",
      "For # clusters = 8, the Silhouette Coefficient is 0.5291\n",
      "For # clusters = 9, the Silhouette Coefficient is 0.5315\n"
     ]
    }
   ],
   "source": [
    "from sklearn.metrics import silhouette_score\n",
    "\n",
    "for n_clusters in range(2, 10): \n",
    "    k_means = Pipeline([('standard', StandardScaler()),\n",
    "                        ('cluster',  KMeans(n_clusters=n_clusters, max_iter=1_000)), \n",
    "                       ])\n",
    "    labels = k_means.fit_predict(X)\n",
    "    score = silhouette_score(X, labels, metric='euclidean')\n",
    "    print(f\"For # clusters = {n_clusters}, the Silhouette Coefficient is {score:.4f}\") "
   ]
  },
  {
   "cell_type": "markdown",
   "metadata": {
    "slideshow": {
     "slide_type": "fragment"
    }
   },
   "source": [
    "What is the best the Silhouette Coefficient?"
   ]
  },
  {
   "cell_type": "markdown",
   "metadata": {
    "slideshow": {
     "slide_type": "skip"
    }
   },
   "source": [
    "It is 2. "
   ]
  },
  {
   "cell_type": "markdown",
   "metadata": {
    "slideshow": {
     "slide_type": "slide"
    }
   },
   "source": [
    "What are the advantages of k-means?\n",
    "-----\n",
    "\n",
    "- Empirically useful\n",
    "- Most common type of clustering\n",
    "- Simple, Simple, Simple"
   ]
  },
  {
   "cell_type": "markdown",
   "metadata": {
    "slideshow": {
     "slide_type": "slide"
    }
   },
   "source": [
    "What are the disadvantage of k-means?\n",
    "-----"
   ]
  },
  {
   "cell_type": "markdown",
   "metadata": {
    "slideshow": {
     "slide_type": "fragment"
    }
   },
   "source": [
    "- Finding a useful number of clusters (k) can be ambiguous\n",
    "- Computational intensive to fit because each training step requires a complete base through the data\n",
    "- Each data only belongs to single cluster\n",
    "- Converges to local minima\n",
    "- Sensitive to outliers\n",
    "- Applicable only when mean is defined \n",
    "- Unable to handle noisy data and outliers\n",
    "- Can not model complex relationships \n",
    "    - Assumes the data is spheroid shape \n",
    "    - Spheroid means if you draw a straight line from one point in the cluster to another, it never crosses outside the cluster\n",
    "- [Read more here](https://stats.stackexchange.com/questions/133656/how-to-understand-the-drawbacks-of-k-means/133841)"
   ]
  },
  {
   "cell_type": "markdown",
   "metadata": {
    "slideshow": {
     "slide_type": "slide"
    }
   },
   "source": [
    "Check for understanding\n",
    "-----\n",
    "\n",
    "Why should you standardize your data before fitting k-means?"
   ]
  },
  {
   "cell_type": "markdown",
   "metadata": {
    "slideshow": {
     "slide_type": "fragment"
    }
   },
   "source": [
    "Yes.\n",
    "\n",
    "If you do __not__ standardise your data then the variables measured in large valued units will dominate the computed dissimilarity and variables that are measured in small valued units will contribute very little."
   ]
  },
  {
   "cell_type": "markdown",
   "metadata": {
    "slideshow": {
     "slide_type": "slide"
    }
   },
   "source": [
    "Check for understanding\n",
    "-----\n",
    "\n",
    "K-means is an iterative algorithm. It alternates between what two steps?"
   ]
  },
  {
   "cell_type": "markdown",
   "metadata": {
    "slideshow": {
     "slide_type": "fragment"
    }
   },
   "source": [
    "1. Assign datapoints to nearest cluster\n",
    "2. Move centroid to the mean of labeled data"
   ]
  },
  {
   "cell_type": "markdown",
   "metadata": {
    "slideshow": {
     "slide_type": "slide"
    }
   },
   "source": [
    "<center><h2>Takeaways</h2></center>\n",
    "\n",
    "\n",
    "- k-means is the most common type of clustering\n",
    "- k-means training:\n",
    "    1. Updates the centroid of existing clusters\n",
    "    2. Re-assigns datapoints to nearest centriod\n",
    "- Be aware of limitations (e.g., distance metric and scaling)"
   ]
  },
  {
   "cell_type": "markdown",
   "metadata": {},
   "source": [
    "<center><h2>Sources of Inspiration</h2></center>\n",
    "\n",
    "- https://realpython.com/k-means-clustering-python/"
   ]
  },
  {
   "cell_type": "markdown",
   "metadata": {
    "slideshow": {
     "slide_type": "slide"
    }
   },
   "source": [
    "Bonus Material\n",
    "-----"
   ]
  },
  {
   "cell_type": "markdown",
   "metadata": {
    "slideshow": {
     "slide_type": "slide"
    }
   },
   "source": [
    "k-means Optimization Function\n",
    "------\n",
    "\n",
    "<center><img src=\"../images/optimitization_function.png\" width=\"100%\"/></center>\n",
    "\n"
   ]
  },
  {
   "cell_type": "markdown",
   "metadata": {
    "slideshow": {
     "slide_type": "skip"
    }
   },
   "source": [
    "[Source](https://github.com/Avik-Jain/100-Days-Of-ML-Code/blob/master/Info-graphs/Day%2043.jpg)"
   ]
  },
  {
   "cell_type": "markdown",
   "metadata": {
    "slideshow": {
     "slide_type": "slide"
    }
   },
   "source": [
    "Centroid vs Medoids\n",
    "-----\n",
    "\n",
    "Typically, k-means returns a __centroid__ (i.e., the arithmetic mean position of all the points)\n",
    "\n",
    "In many business settings, you should return the single best _actual_ observed datapoint as a cluster center, aka __medoids__\n",
    "\n",
    "Implementation - [sklearn_extra.cluster.KMedoids](https://scikit-learn-extra.readthedocs.io/en/latest/generated/sklearn_extra.cluster.KMedoids.html)"
   ]
  },
  {
   "cell_type": "markdown",
   "metadata": {},
   "source": [
    "<center><h2>What to Do When K-Means Clustering Fails</h2></center>\n",
    "\n",
    "[A Simple yet Principled Alternative Algorithm](https://journals.plos.org/plosone/article?id=10.1371/journal.pone.0162259)"
   ]
  },
  {
   "cell_type": "markdown",
   "metadata": {},
   "source": [
    "Solutions to Initial Centroids Problem\n",
    "-----\n",
    "\n",
    "- k-means++\n",
    "- multiple runs\n",
    "- grid search\n",
    "- Select more than k initial centroids and then select among these initial centroids\n",
    "- Look at the data and manually seed\n",
    "- Use Bisecting K-means"
   ]
  },
  {
   "cell_type": "markdown",
   "metadata": {},
   "source": [
    "Post-processing helps k-means\n",
    "-----\n",
    "\n",
    "- Eliminate small clusters that may represent outliers\n",
    "- Split ‘loose’ clusters, i.e., clusters with relatively high SSE\n",
    "- Merge clusters that are ‘close’ and that have relatively low SSE"
   ]
  },
  {
   "cell_type": "markdown",
   "metadata": {
    "slideshow": {
     "slide_type": "slide"
    }
   },
   "source": [
    "What is the relationship between k-nn and k-means?\n",
    "-----\n",
    "\n",
    "Nothing important.\n",
    "\n",
    "They both use k as a parameter"
   ]
  },
  {
   "cell_type": "markdown",
   "metadata": {
    "slideshow": {
     "slide_type": "slide"
    }
   },
   "source": [
    "K-means\n",
    "----\n",
    "\n",
    "Mathematically, k-means partitions the observations according to the Voronoi diagram generated by the means.\n"
   ]
  },
  {
   "cell_type": "markdown",
   "metadata": {
    "slideshow": {
     "slide_type": "slide"
    }
   },
   "source": [
    "[A nice implementation of k-means](https://github.com/rhettinger/modernpython/blob/master/kmeans.py)"
   ]
  },
  {
   "cell_type": "markdown",
   "metadata": {
    "slideshow": {
     "slide_type": "slide"
    }
   },
   "source": [
    "k-means++\n",
    "-----\n",
    "\n",
    "Like many algoritms, k-means is easy to get caught in a local minimum.\n",
    "\n",
    "How would we choose a better starting points?\n",
    "\n",
    "One alternative to this is to choose centroids based on random points, which will make it likely initial centroids will be farther apart.\n",
    "\n",
    "k-means++ is an extension of this idea, the same algorithm as k-means but with a different starting point.\n",
    "\n",
    " * Choose one point for first center.\n",
    " * Repeat:\n",
    "    \n",
    "    * Calculate distance from each point to the nearest center $d_i$\n",
    "    * Choose a point to be the next center, randomly, using a weighed probability $d_i^2$\n",
    "\n",
    " ... until k centers have been choosen.\n",
    " \n",
    " sklearn's KMeans default is `init='k-means++'` \n",
    " \n",
    " [Source](https://scikit-learn.org/stable/modules/generated/sklearn.cluster.KMeans.html)"
   ]
  },
  {
   "cell_type": "markdown",
   "metadata": {
    "slideshow": {
     "slide_type": "slide"
    }
   },
   "source": [
    " "
   ]
  }
 ],
 "metadata": {
  "kernelspec": {
   "display_name": "Python 3",
   "language": "python",
   "name": "python3"
  },
  "language_info": {
   "codemirror_mode": {
    "name": "ipython",
    "version": 3
   },
   "file_extension": ".py",
   "mimetype": "text/x-python",
   "name": "python",
   "nbconvert_exporter": "python",
   "pygments_lexer": "ipython3",
   "version": "3.8.5"
  },
  "toc": {
   "base_numbering": 1,
   "nav_menu": {},
   "number_sections": false,
   "sideBar": false,
   "skip_h1_title": false,
   "title_cell": "Table of Contents",
   "title_sidebar": "Contents",
   "toc_cell": true,
   "toc_position": {},
   "toc_section_display": true,
   "toc_window_display": false
  }
 },
 "nbformat": 4,
 "nbformat_minor": 2
}
